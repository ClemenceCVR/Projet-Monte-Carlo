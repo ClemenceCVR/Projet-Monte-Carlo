{
 "cells": [
  {
   "cell_type": "code",
   "execution_count": 2,
   "metadata": {},
   "outputs": [],
   "source": [
    "import numpy as np\n",
    "from scipy.stats import levy_stable\n",
    "from scipy.stats import uniform\n",
    "from scipy.stats import multivariate_normal"
   ]
  },
  {
   "cell_type": "code",
   "execution_count": 4,
   "metadata": {},
   "outputs": [],
   "source": [
    "def prior_sample(seed):\n",
    "    # Sample from prior distribution\n",
    "    # For univariate alpha-stable models, sample each parameter from its respective uniform distribution\n",
    "    np.random.seed(seed)\n",
    "    alpha = uniform.rvs(1.1, 2)  # U[1.1, 2]\n",
    "    beta = uniform.rvs(-1, 1)  # U[-1, 1]\n",
    "    gamma = uniform.rvs(0, 300)  # U[0, 300]\n",
    "    delta = uniform.rvs(-300, 300)  # U[-300, 300]\n",
    "    return [alpha, beta, gamma, delta]"
   ]
  },
  {
   "cell_type": "code",
   "execution_count": 5,
   "metadata": {},
   "outputs": [],
   "source": [
    "def univ_alpha_stable_sampler(params,size,seed) :\n",
    "    alpha,beta,gamma,delta = params[0],params[1],params[2],params[3]\n",
    "    #print(alpha,beta,gamma,delta)\n",
    "    y_bar = 0\n",
    "    np.random.seed(seed)\n",
    "    w = np.random.standard_exponential(size=size)\n",
    "    u = np.random.uniform(low = -np.pi/2, high = np.pi/2, size = size)\n",
    "    if alpha == 1 :\n",
    "        y_bar = 2/np.pi*((np.pi/2+beta*u)*np.tan(u)-beta*np.log((np.pi/2*w*np.cos(u))/(np.pi/2+beta*u)))\n",
    "        return gamma*y_bar + delta\n",
    "    else :\n",
    "        S = (1+beta**2*np.tan(np.pi*alpha/2)**2)**(1/(2*alpha))\n",
    "        B = 1/alpha*np.arctan(beta*np.tan(np.pi*alpha/2))\n",
    "        #print(S,B)\n",
    "        y_bar = (S*(np.sin(alpha)*(u+B))*(np.cos(u-alpha*(u+B))/w)**((1-alpha)/alpha))/np.cos(u)**(1/alpha)\n",
    "        return gamma*y_bar + delta"
   ]
  },
  {
   "cell_type": "code",
   "execution_count": 6,
   "metadata": {},
   "outputs": [],
   "source": [
    "def compute_quantiles(data):\n",
    "    # Compute quantile-based summary statistics\n",
    "    quantiles = np.percentile(data, [5, 25, 50, 75, 95])\n",
    "    v_alpha = (quantiles[4] - quantiles[0]) / (quantiles[3] - quantiles[1])\n",
    "    v_beta = (quantiles[4] + quantiles[0] - 2 * quantiles[2]) / (quantiles[4] - quantiles[0])\n",
    "    v_gamma = (quantiles[3] - quantiles[1]) / quantiles[2]\n",
    "    return v_alpha, v_beta, v_gamma"
   ]
  },
  {
   "cell_type": "code",
   "execution_count": 7,
   "metadata": {},
   "outputs": [],
   "source": [
    "def S(data):\n",
    "    # Compute summary statistics of the data\n",
    "    # This function should return low-dimensional summary statistics S(data)\n",
    "    # For univariate alpha-stable models, use quantile-based estimators along with the mean of the data\n",
    "    v_alpha, v_beta, v_gamma = compute_quantiles(data)\n",
    "    mean_x = np.mean(data)\n",
    "    return np.array([v_alpha, v_beta, v_gamma, mean_x])"
   ]
  },
  {
   "cell_type": "code",
   "execution_count": 8,
   "metadata": {},
   "outputs": [],
   "source": [
    "def psi(y, x, covariance = np.diag([0.25,0.25,1,1])):\n",
    "    # Define smoothing kernel using a Gaussian kernel with estimated covariance\n",
    "    return multivariate_normal.pdf(y, mean=x, cov=covariance)\n"
   ]
  },
  {
   "cell_type": "code",
   "execution_count": null,
   "metadata": {},
   "outputs": [],
   "source": [
    "def pi_LF(theta,y) :\n",
    "    \"\"\"give the approximate density pi_LF\n",
    "\n",
    "    Args:\n",
    "        theta (_type_): _description_\n",
    "        y (_type_): _description_\n",
    "    \"\"\"\n",
    "    [K((summary_statistics(y)-summary_statistics(x_i))/epsilon)/epsilon for x_i in x]\n",
    "    "
   ]
  },
  {
   "cell_type": "code",
   "execution_count": 9,
   "metadata": {},
   "outputs": [],
   "source": [
    "def sigma_hat(theta_hat,n_draws = 1000):\n",
    "    x = np.array([univ_alpha_stable_sampler(params = theta_hat, size = 200, seed=None) for _ in range(n_draws)])\n",
    "    sumary_statistics = np.array([S(x_i) for x_i in x])\n",
    "\n",
    "    return np.cov(sumary_statistics, rowvar=False)"
   ]
  },
  {
   "cell_type": "code",
   "execution_count": 10,
   "metadata": {},
   "outputs": [],
   "source": [
    "def norm2(u) :\n",
    "    return np.sqrt(np.sum(u*u))\n"
   ]
  },
  {
   "cell_type": "code",
   "execution_count": 11,
   "metadata": {},
   "outputs": [],
   "source": [
    "def K(u, sigma) :\n",
    "    d = sigma.shape[0]\n",
    "    #print(d)\n",
    "    return np.exp(-(u.T@np.linalg.inv(sigma)@u)/2)/(np.sqrt(2*np.pi)**d*np.sqrt(np.linalg.det(sigma)))\n",
    "\n",
    "\n"
   ]
  },
  {
   "cell_type": "code",
   "execution_count": 13,
   "metadata": {},
   "outputs": [],
   "source": [
    "def resample(theta, weights,N) :\n",
    "    normalized_weights = weigths/np.sum(weights)\n",
    "    theta['t'] = np.random.choice(theta['t-1'], size=N, replace=True, p=normalized_weights)\n",
    "    weights['t'] = np.ones(N)/N"
   ]
  },
  {
   "cell_type": "code",
   "execution_count": 14,
   "metadata": {},
   "outputs": [],
   "source": [
    "def sample_from_M_t(N, theta_prev, weights_prev):\n",
    "\n",
    "    samples = np.zeros((N, 4))\n",
    "    normalized_weights = weights_prev/np.sum(weights_prev)\n",
    "    for i in range(N):\n",
    "        # Choose a component based on the weights\n",
    "        component = np.random.choice(range(N), p=normalized_weights)\n",
    "        # Generate a sample from the chosen component\n",
    "        sample = np.random.multivariate_normal(mean = theta_prev[component], cov = np.diag([0.25,0.25,1,1]))\n",
    "        samples[i] = sample\n",
    "        \n",
    "    return samples  "
   ]
  },
  {
   "cell_type": "code",
   "execution_count": 15,
   "metadata": {},
   "outputs": [],
   "source": [
    "def M_t(N,theta_i,theta_prev, weights_prev) :\n",
    "    densities = np.array([ psi(theta_i, theta_prev[i]) for i in range(N)])\n",
    "    return np.sum(weights_prev*densities)\n",
    "    "
   ]
  },
  {
   "cell_type": "code",
   "execution_count": 110,
   "metadata": {},
   "outputs": [],
   "source": [
    "def SMC_sampler(T=10,N =1000,n=200,covariance = np.diag([0.25, 0.25, 1, 1]), seed=42) :\n",
    "    epsilons = [k for k in range(1000,100, -100)]+[k for k in range(100,9, -1)] + [k+0.5 for k in range(9,4,-1)] + [5-k*0.05 for k in range(40)]+[3-0.01*k for k in range(301)]  # Tolerance schedule\n",
    "    y = levy_stable.rvs(1.7, 0.9, loc=10, scale=10, size=200)\n",
    "    ###--------Initialization :\n",
    "    epsilon = epsilons[0]\n",
    "    # 1 - sample theta from the prior : \n",
    "    # theta is a Nx4 matrix containing all the N theta_i\n",
    "    initial_theta = np.array([prior_sample(seed) for _ in range(N)])\n",
    "    theta = {\"t\" : initial_theta , \"t-1\" :initial_theta }\n",
    "    # set weights their initial values :\n",
    "    x = np.array([univ_alpha_stable_sampler(params=theta['t'][i], size=n, seed=seed) for i in range(N)])\n",
    "    print('x.shape = ',x.shape)\n",
    "    initial_weights = np.array([K((S(y)-S(x))/epsilon,sigma_hat(theta_hat))/epsilon for theta_hat in theta['t']])\n",
    "    print(\"weights = \", initial_weights)\n",
    "    print(\" sum(weights) = \", np.sum(initial_weights))\n",
    "    weights = {\"t\" : initial_weights, \"t-1\" : initial_weights}\n",
    "    t=1\n",
    "    while t<T :\n",
    "        epsilon = epsilons[t]\n",
    "        i = 1\n",
    "        while i<N : \n",
    "            # Mutation and correction : \n",
    "            theta_maj = theta['t']\n",
    "            weights_maj = weights['t']\n",
    "            theta['t'] = sample_from_M_t(N, theta['t-1'], weights['t-1'])\n",
    "            weights['t'] = np.array([K((S(y)-S(x))/epsilon,sigma_hat(theta_hat))/epsilon for theta_hat in theta['t']])/np.array([M_t(theta['t'][i],theta['t-1'],weights['t-1']) for i in range(N)])\n",
    "            theta['t-1'] = theta_maj\n",
    "            weights['t-1'] = weights_maj\n",
    "            u = np.random.uniform(low=0, high=1, size=N)\n",
    "            c_t = np.quantile(weights['t'], 0.9)\n",
    "            proba = 1-np.minimum(1,weights['t']/c_t)\n",
    "            rejected = theta['t'][u<=proba]\n",
    "            accepted = theta['t'][u>proba]\n",
    "            print(\"accepted = \" ,accepted)\n",
    "            print(\"acceptance pourcentage = \", len(accepted)*100/N)\n",
    "            print(\"rejected = \" ,rejected)\n",
    "            print(\"rejected pourcentage = \", len(rejected)*100/N) \n",
    "            if proba<u : \n",
    "                continue\n",
    "            else : \n",
    "                i+=1\n",
    "                continue \n",
    "        # Resample : \n",
    "        resample(theta,weights,N)\n",
    "        print(\"theta = \", theta)\n",
    "        print(\"weights = \", weights)\n",
    "\n",
    "\n",
    "\n",
    "    \n",
    "\n",
    "\n",
    "\n",
    "\n"
   ]
  },
  {
   "cell_type": "code",
   "execution_count": 16,
   "metadata": {},
   "outputs": [],
   "source": [
    "def SMC_sampler_v2(arg, T=10,N =1000,n=200,covariance = np.diag([0.25, 0.25, 1, 1]), seed=42) :\n",
    "    #epsilons = [k for k in range(1000,100, -100)]+[k for k in range(100,9, -1)] + [k+0.5 for k in range(9,4,-1)] + [5-k*0.05 for k in range(40)]+[3-0.01*k for k in range(301)]  # Tolerance schedule\n",
    "    epsilons = [3-0.01*k for k in range(301)]\n",
    "    T = len(epsilons)\n",
    "\n",
    "    #y = levy_stable.rvs(1.7, 0.9, loc=10, scale=10, size=200)\n",
    "    ###--------Initialization :\n",
    "    epsilon = epsilons[0]\n",
    "    # 1 - sample theta from the prior : \n",
    "    # theta is a Nx4 matrix containing all the N theta_i\n",
    "    #initial_theta = np.array([prior_sample(seed) for _ in range(N)])\n",
    "    #theta = {\"t\" : initial_theta , \"t-1\" :initial_theta }\n",
    "    # set weights their initial values :\n",
    "    #x = np.array([univ_alpha_stable_sampler(params=theta['t'][i], size=n, seed=seed) for i in range(N)])\n",
    "    #print('x.shape = ',x.shape)\n",
    "    #initial_weights = np.array([K((S(y)-S(x))/epsilon,sigma_hat(theta_hat))/epsilon for theta_hat in theta['t']])\n",
    "    #print(\"weights = \", initial_weights)\n",
    "    #print(\" sum(weights) = \", np.sum(initial_weights))\n",
    "    #weights = {\"t\" : initial_weights, \"t-1\" : initial_weights}\n",
    "    y,x,theta,weights = arg\n",
    "    t=1\n",
    "    res = []\n",
    "    print(\"INITIALIZATION IS DONE :)\")\n",
    "    while t<T :\n",
    "        print(\"t = \",t)\n",
    "        epsilon = epsilons[t]\n",
    "        print(\"epsilon = \",epsilon)\n",
    "        accepted = []\n",
    "        rejected = []\n",
    "        while len(accepted)<N : \n",
    "            # Mutation and correction : \n",
    "            theta_maj = theta['t']\n",
    "            weights_maj = weights['t']\n",
    "            theta['t'] = sample_from_M_t(N, theta['t-1'], weights['t-1'])\n",
    "            print('theta t = ', theta['t'][:5])\n",
    "            weights['t'] = np.array([K((S(y)-S(x))/epsilon,sigma_hat(theta_hat))/epsilon for theta_hat in theta['t']])/np.array([M_t(N,theta['t'][i],theta['t-1'],weights['t-1']) for i in range(N)])\n",
    "            print('weights t = ', weights['t'][:5])\n",
    "            theta['t-1'] = theta_maj\n",
    "            weights['t-1'] = weights_maj\n",
    "            u = np.random.uniform(low=0, high=1, size=N)\n",
    "            c_t = np.quantile(weights['t'], 0.9)\n",
    "            proba = 1-np.minimum(1,weights['t']/c_t)\n",
    "            print('proba = ', proba[:10])\n",
    "            rejected = theta['t'][u<=proba]\n",
    "            accepted = theta['t'][u>proba]\n",
    "            print(\"accepted = \" ,accepted)\n",
    "            print(\"acceptance pourcentage = \", len(accepted)*100/N)\n",
    "            print(\"rejected = \" ,rejected)\n",
    "            print(\"rejected pourcentage = \", len(rejected)*100/N)\n",
    "        t+=1\n",
    "        res.append((theta['t'], weights['t']))\n",
    "        # Resample : \n",
    "        resample(theta,weights,N)\n",
    "        print(\"theta = \", theta)\n",
    "        print(\"weights = \", weights)\n"
   ]
  },
  {
   "cell_type": "code",
   "execution_count": 17,
   "metadata": {},
   "outputs": [],
   "source": [
    "def initialization(T=10,N =1000,n=200,covariance = np.diag([0.25, 0.25, 1, 1]), seed=42) :\n",
    "    #epsilons = [k for k in range(1000,100, -100)]+[k for k in range(100,9, -1)] + [k+0.5 for k in range(9,4,-1)] + [5-k*0.05 for k in range(40)]+[3-0.01*k for k in range(301)]  # Tolerance schedule\n",
    "    epsilons = [3-0.01*k for k in range(301)]\n",
    "    T = len(epsilons)\n",
    "    y = levy_stable.rvs(1.7, 0.9, loc=10, scale=10, size=200)\n",
    "    ###--------Initialization :\n",
    "    epsilon = epsilons[0]\n",
    "    # 1 - sample theta from the prior : \n",
    "    # theta is a Nx4 matrix containing all the N theta_i\n",
    "    initial_theta = np.array([prior_sample(seed) for _ in range(N)])\n",
    "    theta = {\"t\" : initial_theta , \"t-1\" :initial_theta }\n",
    "    # set weights their initial values :\n",
    "    x = np.array([univ_alpha_stable_sampler(params=theta['t'][i], size=n, seed=seed) for i in range(N)])\n",
    "    print('x.shape = ',x.shape)\n",
    "    initial_weights = np.array([K((S(y)-S(x))/epsilon,sigma_hat(theta_hat))/epsilon for theta_hat in theta['t']])\n",
    "    print(\"weights = \", initial_weights)\n",
    "    print(\" sum(weights) = \", np.sum(initial_weights))\n",
    "    weights = {\"t\" : initial_weights, \"t-1\" : initial_weights}\n",
    "\n",
    "    return y,x,theta, weights"
   ]
  },
  {
   "cell_type": "code",
   "execution_count": 18,
   "metadata": {},
   "outputs": [
    {
     "name": "stdout",
     "output_type": "stream",
     "text": [
      "x.shape =  (1000, 200)\n",
      "weights =  [2.35490511e-08 5.68842396e-08 2.67831617e-08 1.77735181e-07\n",
      " 1.21739078e-07 7.33486019e-08 5.97263906e-08 7.09789488e-08\n",
      " 2.69364484e-08 2.55008662e-08 7.84928589e-08 4.99322764e-08\n",
      " 4.42754901e-08 6.88781129e-08 7.01224548e-08 8.04409593e-08\n",
      " 6.61608618e-08 3.86890146e-08 1.18017988e-07 1.43353913e-08\n",
      " 4.72239717e-08 4.33292685e-08 4.61181420e-08 5.09205926e-08\n",
      " 6.70159537e-08 1.27712801e-07 1.57224420e-08 8.89674487e-08\n",
      " 3.93214328e-08 6.36003264e-08 8.49587706e-09 4.94144924e-08\n",
      " 4.44485695e-08 9.27499643e-08 8.12252007e-08 2.93527351e-08\n",
      " 4.41520757e-08 4.70682214e-08 3.70190784e-08 2.57305399e-09\n",
      " 4.32439897e-08 4.77152432e-08 1.76003214e-08 6.02899095e-08\n",
      " 7.71411325e-08 4.91258158e-08 4.77857427e-08 3.96055558e-08\n",
      " 6.13716392e-08 3.92350787e-08 5.14721357e-08 3.51243262e-08\n",
      " 2.67471950e-08 1.90313399e-08 7.21203931e-08 1.27796500e-08\n",
      " 4.42067352e-08 7.74713562e-08 4.62575037e-08 5.13500880e-08\n",
      " 3.21627357e-08 1.05882326e-07 3.11227445e-08 2.70739177e-08\n",
      " 9.80083086e-08 2.63001874e-08 2.71313592e-08 4.83644487e-08\n",
      " 2.19255471e-08 2.45745476e-08 3.38749079e-08 3.99494379e-08\n",
      " 4.67463888e-08 1.65997408e-08 2.55191088e-08 2.89065461e-08\n",
      " 7.90616732e-08 9.69007364e-08 7.48827436e-08 4.27019182e-08\n",
      " 2.42054132e-08 8.39341716e-08 3.15542693e-08 6.61526417e-08\n",
      " 8.23291327e-09 3.33000656e-08 2.75627559e-08 4.76182200e-08\n",
      " 1.09553534e-07 2.98306956e-08 3.15458515e-08 4.05486245e-08\n",
      " 1.73204867e-08 7.79095378e-08 7.21755120e-08 2.20550186e-08\n",
      " 2.10105865e-08 6.47206526e-08 5.10099219e-08 5.59826610e-08\n",
      " 7.20815121e-08 5.35358985e-08 4.67816782e-08 8.37577102e-08\n",
      " 1.74353973e-08 6.79050436e-08 3.59634939e-08 3.45916405e-08\n",
      " 9.89961505e-08 3.15695520e-08 3.80092064e-08 3.60149296e-08\n",
      " 7.20868145e-08 4.40954649e-08 4.67784382e-08 1.44882545e-07\n",
      " 7.46842959e-08 2.05616997e-08 1.84524522e-08 3.67954009e-08\n",
      " 7.25508327e-08 2.57658308e-08 1.15115055e-07 5.48807470e-08\n",
      " 2.76344612e-08 7.08609773e-08 1.70060843e-08 7.90816690e-08\n",
      " 3.46630141e-08 9.98941071e-08 4.60510681e-08 6.26274631e-08\n",
      " 7.42070072e-08 7.94249671e-08 6.29281206e-08 4.66427090e-08\n",
      " 4.00582187e-08 6.49798199e-08 7.96855870e-08 4.56553350e-08\n",
      " 3.68567636e-08 3.38563197e-08 3.51516557e-08 4.94907815e-08\n",
      " 5.63158439e-08 4.11132571e-08 5.63106343e-08 4.66908140e-08\n",
      " 5.39813631e-08 3.11815779e-08 3.81690047e-08 4.40912940e-08\n",
      " 9.32997393e-08 5.99039747e-08 1.70087330e-08 2.99658809e-08\n",
      " 3.52154337e-08 4.19403929e-08 2.45797708e-08 7.45842793e-08\n",
      " 3.25447732e-08 6.10826397e-08 1.23012658e-07 6.20762851e-08\n",
      " 6.47161053e-08 1.70703223e-08 5.79357089e-08 6.64175223e-08\n",
      " 1.14495273e-07 4.47700879e-08 2.74123818e-08 3.68359212e-08\n",
      " 2.60311447e-08 1.08579928e-08 1.84648292e-08 2.88758271e-08\n",
      " 9.98315821e-08 4.21478173e-08 6.05716145e-08 1.57182142e-08\n",
      " 3.92401080e-08 1.51334537e-08 1.25723248e-08 6.36148904e-08\n",
      " 2.36067149e-08 7.36582695e-08 5.55420931e-08 5.16410106e-08\n",
      " 3.09285327e-08 4.06766041e-08 6.81097663e-08 1.23375729e-08\n",
      " 5.19402906e-08 5.34386224e-08 4.45911607e-08 5.48213396e-08\n",
      " 9.52688210e-08 4.23532566e-08 4.12638487e-08 3.11543013e-08\n",
      " 7.75568610e-08 3.21916129e-08 9.48142170e-08 8.22774778e-08\n",
      " 5.07017067e-08 6.95546485e-08 1.87616869e-08 4.70242866e-08\n",
      " 1.55123172e-07 6.02309242e-08 8.21018690e-08 4.74084844e-08\n",
      " 1.41507825e-08 1.56022917e-08 8.08937697e-08 6.07511047e-08\n",
      " 1.00006366e-07 3.92981409e-08 1.38425728e-08 2.61791409e-08\n",
      " 1.65770238e-08 4.94133551e-08 2.58596601e-08 5.03734764e-08\n",
      " 1.11486870e-08 1.68175828e-08 3.85410458e-08 7.93134564e-08\n",
      " 8.20043742e-08 2.21318593e-07 1.14278759e-07 5.10706705e-08\n",
      " 7.36444678e-08 6.63922533e-08 3.71810932e-08 4.90486099e-08\n",
      " 3.19834800e-08 1.20812432e-07 3.90873633e-08 1.18461114e-07\n",
      " 1.24299906e-07 3.39641405e-08 6.31718971e-08 3.23044584e-08\n",
      " 4.14407550e-08 2.38564335e-08 5.69148923e-09 5.31687042e-08\n",
      " 3.57896055e-08 2.49746757e-08 7.83809618e-08 7.00472795e-08\n",
      " 4.79834164e-08 2.66597978e-08 4.35141387e-08 1.08362183e-07\n",
      " 2.55038362e-08 7.92770338e-08 1.03340981e-07 6.72773925e-07\n",
      " 3.46070670e-08 6.70851900e-08 2.54547642e-08 1.06944435e-07\n",
      " 2.54193824e-08 9.76891449e-09 8.03050235e-08 5.17304034e-08\n",
      " 6.79529514e-08 3.11501981e-08 2.15159306e-08 3.80171180e-08\n",
      " 1.98649199e-09 5.00743178e-08 7.90907763e-08 2.97784644e-08\n",
      " 4.86344062e-08 9.88974473e-08 6.70774871e-08 2.82886246e-08\n",
      " 4.82879600e-08 5.04317285e-08 2.20053348e-08 6.38234757e-08\n",
      " 5.40933235e-08 1.63183688e-08 2.06012430e-08 1.69344988e-07\n",
      " 7.40324301e-08 2.03476070e-08 9.03789876e-08 1.37528865e-08\n",
      " 3.07423145e-08 2.71435628e-07 3.59100870e-08 4.56153724e-08\n",
      " 8.85448630e-08 3.94880697e-08 6.92266296e-08 6.66839640e-08\n",
      " 2.17447911e-08 7.14571909e-08 3.20272718e-08 2.70026747e-08\n",
      " 6.00466834e-08 2.04802863e-08 5.77998796e-08 2.30061531e-08\n",
      " 1.28642865e-08 1.54633366e-08 7.61275172e-08 4.18956351e-08\n",
      " 3.76008830e-08 5.66837959e-08 3.75926425e-08 6.07405810e-08\n",
      " 9.68172068e-08 1.23670126e-07 3.50253529e-08 2.96328640e-08\n",
      " 5.83318530e-08 1.16381765e-07 4.63978609e-08 3.82555349e-08\n",
      " 5.38960928e-08 2.35051575e-08 2.90576784e-08 2.70887263e-08\n",
      " 4.79910709e-08 2.04760735e-08 6.57253050e-08 7.22049714e-08\n",
      " 9.78366974e-09 1.24923240e-07 6.87678881e-08 2.82690428e-08\n",
      " 4.58787648e-08 4.61224341e-08 4.02335167e-08 3.23322076e-08\n",
      " 4.18015590e-08 6.54417183e-08 1.47302968e-07 5.36560433e-08\n",
      " 2.84205340e-07 9.04441333e-08 4.91812304e-08 4.08425853e-08\n",
      " 3.30387952e-08 4.35766660e-08 2.01105652e-08 4.86510944e-08\n",
      " 3.92120596e-08 5.27073667e-08 5.23933518e-08 4.07704326e-08\n",
      " 1.97838232e-08 6.74482138e-08 7.06905029e-08 9.49321791e-08\n",
      " 2.31960014e-08 1.86656156e-08 1.79329558e-08 2.66637920e-08\n",
      " 8.19906124e-08 6.95920181e-08 4.83740081e-08 3.57350795e-08\n",
      " 1.23155019e-07 7.98385446e-08 1.08951656e-07 2.25328232e-08\n",
      " 1.60768030e-08 4.39487082e-08 5.06613896e-08 1.91649949e-08\n",
      " 2.43330545e-08 7.68051551e-08 2.55131427e-08 3.95738232e-08\n",
      " 5.26002817e-08 2.15255777e-08 8.53169126e-08 2.42816184e-08\n",
      " 6.15907608e-08 2.57489901e-08 4.23958405e-08 4.46087375e-08\n",
      " 7.24295983e-08 3.16062642e-08 5.33948826e-08 4.83605575e-08\n",
      " 3.94798852e-08 4.17533588e-08 5.15462881e-08 3.29551188e-08\n",
      " 7.97842599e-08 6.11291928e-08 2.92065110e-08 6.59621421e-08\n",
      " 7.18763644e-08 5.57181851e-08 5.21065774e-08 3.50860774e-08\n",
      " 3.43378554e-08 2.54519810e-08 2.20578305e-08 5.22963927e-08\n",
      " 3.32439742e-08 2.03597590e-08 3.11874229e-08 2.83557939e-08\n",
      " 3.85046890e-08 4.04176731e-08 1.96095942e-08 2.73881125e-08\n",
      " 3.59982607e-08 3.07173551e-08 4.11091869e-08 1.16409309e-07\n",
      " 5.42686982e-08 3.35515591e-08 3.90167791e-08 1.24149057e-07\n",
      " 3.03559600e-08 6.12927171e-08 4.18495229e-08 3.24324978e-08\n",
      " 4.23081269e-08 5.49186743e-08 4.33396346e-08 6.70707074e-08\n",
      " 3.41717838e-08 7.58796636e-08 1.21199407e-07 4.94045640e-08\n",
      " 3.23618543e-08 1.33017919e-07 2.40559210e-08 7.81808451e-08\n",
      " 5.72154295e-08 6.18252638e-08 1.17314480e-08 6.20675626e-08\n",
      " 3.79448151e-08 1.17558823e-07 1.99410760e-08 3.60571682e-08\n",
      " 2.86422150e-08 7.18768314e-08 3.29494507e-08 1.14939889e-07\n",
      " 4.95292359e-08 1.57983048e-08 1.76662952e-07 8.84778428e-08\n",
      " 1.81238710e-07 5.36038526e-08 7.37022507e-08 2.44836756e-07\n",
      " 7.27994191e-08 6.15615018e-08 7.13345270e-08 1.22525597e-07\n",
      " 5.04000345e-08 4.17057405e-08 6.93162386e-08 2.62025801e-08\n",
      " 5.62885269e-08 1.68629388e-07 5.97705171e-08 2.92896936e-08\n",
      " 3.37442600e-08 3.83298900e-08 2.77318910e-08 5.21478507e-08\n",
      " 8.30324824e-08 4.78377170e-08 2.85490035e-08 7.05958757e-08\n",
      " 4.93187260e-08 7.08977701e-08 4.61190837e-08 8.27270326e-08\n",
      " 5.67602642e-08 3.40534801e-08 5.44396573e-08 3.05427836e-08\n",
      " 6.99143038e-09 3.25023929e-08 4.02394459e-08 1.05692630e-07\n",
      " 3.25265603e-08 3.48012574e-08 1.01986675e-07 5.33304606e-08\n",
      " 2.49436123e-08 9.25329245e-08 1.30905166e-07 2.35200207e-08\n",
      " 1.13186766e-07 7.77605718e-08 1.42134481e-08 3.60275360e-08\n",
      " 7.42520639e-08 6.84817540e-08 9.83822017e-08 1.46370715e-08\n",
      " 5.57854198e-08 4.30139446e-08 8.51162614e-08 3.45177851e-08\n",
      " 4.05581174e-08 1.25418570e-07 4.96216474e-08 3.38878184e-08\n",
      " 1.23308591e-07 9.53074098e-08 2.76590227e-08 8.60292328e-08\n",
      " 2.84152949e-08 3.57042018e-08 2.38166189e-08 1.95131075e-08\n",
      " 8.53031678e-08 1.44088593e-07 3.68908185e-08 7.01799683e-08\n",
      " 6.30077317e-08 3.73623241e-08 7.31458610e-08 8.87086465e-08\n",
      " 3.44025978e-08 6.21187066e-08 6.65548829e-08 4.36428325e-08\n",
      " 1.46448404e-08 2.39879338e-08 3.38379802e-08 3.19151065e-08\n",
      " 3.71232398e-08 7.60310220e-08 6.45381021e-08 4.66120197e-08\n",
      " 3.58560038e-08 6.20091559e-08 4.15989615e-08 6.13173903e-08\n",
      " 2.42795083e-08 3.59958055e-08 8.31093073e-08 2.83658654e-08\n",
      " 1.95210311e-08 3.66665390e-08 3.63892080e-08 3.40180380e-08\n",
      " 4.55203340e-08 2.93864791e-08 2.57876941e-08 7.81987527e-08\n",
      " 5.94108493e-08 4.08331428e-08 5.51722794e-08 7.00700391e-08\n",
      " 6.52941658e-08 1.75106201e-08 3.37574399e-08 3.74314677e-08\n",
      " 6.99646851e-08 2.42631864e-08 2.42752878e-08 4.90953947e-08\n",
      " 1.03593338e-07 5.79316931e-08 3.72713215e-08 7.63073920e-08\n",
      " 3.45681292e-08 7.42460619e-08 3.13224287e-08 4.29906316e-08\n",
      " 6.20130378e-08 2.94575644e-08 3.75461941e-08 1.87095359e-08\n",
      " 2.28206941e-08 3.98962966e-08 3.57019404e-08 2.92508263e-08\n",
      " 3.74695903e-08 1.47213322e-08 7.98596312e-10 4.59190161e-08\n",
      " 3.22469371e-08 4.60669728e-08 9.57249258e-08 6.51411515e-08\n",
      " 8.27063579e-09 6.36604090e-08 7.44934855e-08 6.67146992e-08\n",
      " 7.77309164e-08 3.45519226e-08 1.33065011e-08 4.52238143e-08\n",
      " 3.11048428e-08 1.81423062e-08 5.19647221e-08 1.88043839e-08\n",
      " 1.31029426e-07 1.45372809e-07 4.58536941e-08 4.66661230e-08\n",
      " 6.84572583e-08 9.92925275e-08 7.45112574e-08 9.60312136e-08\n",
      " 1.76048368e-07 4.38989452e-08 7.31211580e-08 1.03440427e-07\n",
      " 3.34561004e-08 2.11799073e-08 2.26182818e-08 2.46968989e-08\n",
      " 4.45033946e-08 4.16100500e-08 4.37803664e-08 5.88459837e-08\n",
      " 5.24792702e-08 2.94792161e-08 3.60415869e-08 1.02976483e-08\n",
      " 6.50048942e-08 1.05983180e-07 2.04951916e-08 5.60713568e-08\n",
      " 2.83318578e-08 1.06088824e-07 1.18827248e-07 2.40051471e-08\n",
      " 3.06232645e-08 4.48905309e-08 7.77596066e-08 3.36411265e-08\n",
      " 6.00515386e-08 2.52526869e-08 7.22811508e-08 5.68270406e-08\n",
      " 3.32317861e-08 4.49969782e-08 3.01790317e-08 1.60849609e-08\n",
      " 1.89634011e-08 1.17296680e-08 1.01917809e-07 5.84866520e-08\n",
      " 3.34763197e-08 3.39441549e-08 8.71584972e-08 1.03010011e-08\n",
      " 1.04622076e-07 4.24759136e-08 3.50095536e-08 2.29786069e-08\n",
      " 5.80423181e-08 3.33056236e-08 1.00865617e-07 3.34045303e-08\n",
      " 6.15053246e-08 5.30320754e-08 9.66579175e-09 4.13151307e-08\n",
      " 7.77669047e-08 3.29861985e-07 3.14858620e-08 3.97548017e-08\n",
      " 2.15154481e-08 5.27502703e-08 6.76874008e-08 8.09444361e-08\n",
      " 5.12500046e-08 3.76571829e-08 1.14355639e-07 4.32886898e-08\n",
      " 1.73568615e-08 4.75191727e-08 5.47523167e-08 2.31181722e-08\n",
      " 7.46375328e-08 3.41949190e-08 3.37315397e-08 6.25820455e-08\n",
      " 3.78362991e-08 1.03317951e-07 1.56723390e-08 1.01839262e-07\n",
      " 1.69462648e-07 1.18021992e-07 5.21477739e-08 1.33481969e-08\n",
      " 5.61571500e-08 4.84887854e-08 1.92335805e-08 1.78253530e-08\n",
      " 2.07867843e-08 9.87344850e-08 1.87397989e-08 3.11964204e-08\n",
      " 7.00115030e-08 1.00855065e-07 8.61363700e-08 2.16600337e-08\n",
      " 5.56828737e-08 4.01131287e-08 1.11145589e-07 5.08411225e-08\n",
      " 1.64048934e-07 2.94263578e-08 8.47749781e-08 2.39837979e-08\n",
      " 3.74744652e-08 4.01082070e-08 5.25594470e-08 1.61766426e-08\n",
      " 5.81787358e-08 4.80973157e-08 2.90092761e-08 6.64990697e-08\n",
      " 1.83982878e-08 1.17945804e-08 5.63893857e-08 1.94841986e-08\n",
      " 3.46313030e-08 1.58804100e-08 5.11437073e-08 8.55516297e-08\n",
      " 2.07019238e-08 5.47463027e-08 4.91518535e-08 5.36979945e-08\n",
      " 4.59660237e-08 2.50576915e-08 3.06664286e-08 5.95254080e-08\n",
      " 4.67830555e-08 1.27908408e-07 6.38464273e-08 5.35205476e-08\n",
      " 8.53076688e-08 9.35493882e-08 5.84678564e-08 6.92885640e-08\n",
      " 1.02460609e-07 3.69484125e-08 5.40174018e-08 1.00664350e-08\n",
      " 9.51016222e-08 3.13175502e-08 2.15827822e-08 5.09817649e-08\n",
      " 1.44363901e-07 1.57153587e-08 2.54707137e-08 7.79872104e-08\n",
      " 8.67657962e-08 3.25451960e-08 1.55459167e-08 1.10984229e-08\n",
      " 8.76649385e-08 1.09362396e-07 1.50892307e-07 4.40039539e-08\n",
      " 4.51059716e-08 7.05620220e-08 2.65246189e-08 2.81693578e-08\n",
      " 7.09458728e-08 1.73510608e-08 1.47622043e-08 6.22324414e-08\n",
      " 7.26263972e-08 5.49304466e-08 6.44416074e-08 2.53222044e-08\n",
      " 1.44532271e-08 7.45791679e-08 6.72226395e-08 2.22087519e-08\n",
      " 8.77207484e-08 5.65038199e-08 8.50313994e-08 4.96206445e-08\n",
      " 9.86250391e-08 1.76472735e-07 2.88103220e-08 9.05388971e-08\n",
      " 5.86260555e-08 8.66706575e-08 3.81622483e-08 2.35164299e-08\n",
      " 5.90906775e-08 7.79098264e-08 3.76667522e-08 3.44467386e-08\n",
      " 4.70660325e-08 4.16572212e-08 4.18561648e-08 9.67140129e-08\n",
      " 2.94921869e-08 2.25637233e-08 5.23735437e-08 5.38609913e-08\n",
      " 3.34358848e-08 5.30496138e-08 6.92993121e-08 4.03048277e-08\n",
      " 6.28138939e-08 3.66353702e-08 4.81008376e-08 9.07422019e-08\n",
      " 2.99005106e-08 3.49142142e-08 8.23278469e-08 4.26686961e-08\n",
      " 6.13727556e-08 6.65902361e-08 1.38486320e-08 5.05255564e-08\n",
      " 2.81876834e-08 2.89594525e-08 1.49860630e-09 2.25983586e-07\n",
      " 5.20012693e-08 4.73143676e-08 2.29348861e-08 8.35292189e-08\n",
      " 2.59601475e-08 3.47406514e-08 1.52715144e-08 9.27107744e-09\n",
      " 2.84772755e-08 6.16248921e-08 3.17040876e-08 3.88212556e-08\n",
      " 3.74439009e-08 1.97109020e-08 2.50921697e-07 8.87613777e-08\n",
      " 1.65796230e-08 1.14461004e-07 2.75232831e-08 1.38692813e-08\n",
      " 3.31995588e-08 3.21241088e-08 5.09849643e-08 1.72682646e-08\n",
      " 6.36174270e-08 4.07335160e-08 4.45685132e-08 2.58109085e-08\n",
      " 2.83344710e-08 3.36336842e-08 8.26651425e-08 9.90794347e-08\n",
      " 5.88870311e-08 4.35736453e-08 3.62469573e-08 3.21881286e-08\n",
      " 5.56465226e-08 3.77004820e-08 3.40096693e-08 5.58841734e-08\n",
      " 4.21596537e-08 1.13047829e-07 3.05616628e-08 8.01597151e-08\n",
      " 4.76714881e-08 7.11428682e-08 4.60181642e-08 1.20046602e-08\n",
      " 8.34488047e-08 1.18523739e-08 1.77781084e-08 2.80811714e-08\n",
      " 2.44329986e-08 4.40979358e-08 4.59022891e-08 3.52231789e-08\n",
      " 4.54236686e-08 1.83344074e-08 4.11189488e-08 3.16581961e-08\n",
      " 2.84087892e-08 5.57331771e-08 2.99008007e-08 2.45673226e-08\n",
      " 6.62170126e-08 3.71914562e-08 7.21614470e-08 7.23248725e-08\n",
      " 6.97890653e-08 2.70788986e-08 2.41860757e-08 2.72953133e-08\n",
      " 4.14792534e-08 4.79720944e-08 3.87290256e-08 6.78128705e-08\n",
      " 2.89787722e-08 3.59570044e-08 3.06248781e-08 3.45475431e-08\n",
      " 4.08235487e-08 3.87650919e-08 2.29573014e-08 4.48516074e-08\n",
      " 6.88811523e-08 7.59646603e-08 4.39048460e-08 6.34928213e-08\n",
      " 8.74431598e-09 1.68415973e-08 7.96314963e-08 8.47656547e-08\n",
      " 2.87474898e-08 3.29606289e-08 7.38018419e-08 4.29382490e-08\n",
      " 2.31826449e-08 3.59153634e-08 1.02126194e-07 3.29335657e-08\n",
      " 1.82213343e-08 1.70059424e-07 2.98337549e-08 4.32069062e-08\n",
      " 3.35680502e-08 3.36772419e-08 6.66069950e-08 5.32978594e-09\n",
      " 3.22512685e-08 7.07808364e-08 4.55345338e-08 3.70683266e-07\n",
      " 4.74047414e-08 7.79926903e-08 1.29609309e-07 5.12804159e-08\n",
      " 1.66658185e-08 4.13077094e-08 8.78331746e-08 2.08382072e-08\n",
      " 1.08277944e-07 1.59498303e-08 4.90405719e-08 4.80134338e-09\n",
      " 3.73625526e-08 6.40255494e-08 1.71877312e-08 7.21317013e-08\n",
      " 8.81466514e-08 3.22110760e-08 2.41611335e-08 3.11172728e-08\n",
      " 5.10251998e-08 1.26354416e-08 4.64634509e-08 5.57712901e-08\n",
      " 5.17087424e-08 3.63956766e-08 2.45680267e-08 1.74633328e-07\n",
      " 1.87669002e-08 3.54444379e-08 2.74670023e-08 6.80808424e-08\n",
      " 4.52301498e-08 2.28789389e-08 3.84972949e-08 2.53095832e-08\n",
      " 4.56376414e-08 4.03921216e-08 8.65151017e-08 5.33290605e-08\n",
      " 1.63462009e-08 1.29452806e-08 3.22301343e-08 3.88211767e-08\n",
      " 5.97370104e-08 5.04025819e-08 5.92366342e-08 2.49957544e-08\n",
      " 6.24551003e-08 5.69991460e-08 3.44136355e-08 1.32570363e-07\n",
      " 5.83907885e-08 4.02779932e-08 3.64641004e-08 6.00120821e-08]\n",
      " sum(weights) =  5.39353259356838e-05\n"
     ]
    }
   ],
   "source": [
    "arg = initialization()"
   ]
  },
  {
   "cell_type": "code",
   "execution_count": 126,
   "metadata": {},
   "outputs": [
    {
     "name": "stdout",
     "output_type": "stream",
     "text": [
      "INITIALIZATION IS DONE :)\n",
      "t =  1\n",
      "epsilon =  2.99\n",
      "theta t =  [[ 2.78905613e+00  2.16600463e-01  2.18363069e+02 -1.18309661e+02]\n",
      " [ 1.68342570e+00  2.63642709e-01  2.20826609e+02 -1.23199855e+02]\n",
      " [ 1.99786840e+00  6.73575848e-01  2.18739438e+02 -1.20074706e+02]\n",
      " [ 2.04688650e+00 -9.31527663e-01  2.19726049e+02 -1.20214134e+02]\n",
      " [ 1.92731057e+00 -6.38246148e-02  2.19631342e+02 -1.19577946e+02]]\n"
     ]
    },
    {
     "name": "stderr",
     "output_type": "stream",
     "text": [
      "/tmp/ipykernel_242028/1118787516.py:15: RuntimeWarning: invalid value encountered in power\n",
      "  y_bar = (S*(np.sin(alpha)*(u+B))*(np.cos(u-alpha*(u+B))/w)**((1-alpha)/alpha))/np.cos(u)**(1/alpha)\n",
      "/opt/mamba/lib/python3.11/site-packages/numpy/linalg/linalg.py:2180: RuntimeWarning: invalid value encountered in det\n",
      "  r = _umath_linalg.det(a, signature=signature)\n"
     ]
    },
    {
     "name": "stdout",
     "output_type": "stream",
     "text": [
      "weights t =  [           nan 1.16218282e-01 2.54619340e-12            nan\n",
      " 1.81007260e-03]\n",
      "proba =  [nan nan nan nan nan nan nan nan nan nan]\n",
      "accepted =  []\n",
      "acceptance pourcentage =  0.0\n",
      "rejected =  []\n",
      "rejected pourcentage =  0.0\n",
      "theta t =  [[ 1.57592293e+00 -8.15447053e-01  2.20285173e+02 -1.19767615e+02]\n",
      " [ 2.10750423e+00  2.20849298e-01  2.16087235e+02 -1.19836387e+02]\n",
      " [ 1.88971939e+00  8.57714899e-01  2.20387740e+02 -1.22052045e+02]\n",
      " [ 2.35224770e+00  2.37089074e-01  2.20527400e+02 -1.19564615e+02]\n",
      " [ 2.17407454e+00  2.14456715e-01  2.19064634e+02 -1.21302130e+02]]\n"
     ]
    },
    {
     "name": "stderr",
     "output_type": "stream",
     "text": [
      "/tmp/ipykernel_242028/538432180.py:4: RuntimeWarning: overflow encountered in scalar power\n",
      "  return np.exp(-u.T@np.linalg.inv(sigma)@u/2)/(np.sqrt(2*np.pi*np.linalg.det(sigma)**2))**d\n",
      "/tmp/ipykernel_242028/1118787516.py:15: RuntimeWarning: overflow encountered in power\n",
      "  y_bar = (S*(np.sin(alpha)*(u+B))*(np.cos(u-alpha*(u+B))/w)**((1-alpha)/alpha))/np.cos(u)**(1/alpha)\n",
      "/tmp/ipykernel_242028/1151381473.py:4: RuntimeWarning: divide by zero encountered in scalar divide\n",
      "  v_alpha = (quantiles[4] - quantiles[0]) / (quantiles[3] - quantiles[1])\n",
      "/opt/mamba/lib/python3.11/site-packages/numpy/core/_methods.py:118: RuntimeWarning: invalid value encountered in reduce\n",
      "  ret = umr_sum(arr, axis, dtype, out, keepdims, where=where)\n"
     ]
    },
    {
     "name": "stdout",
     "output_type": "stream",
     "text": [
      "weights t =  [4.32037823e-23            nan 1.48973528e-05            nan\n",
      "            nan]\n",
      "proba =  [nan nan nan nan nan nan nan nan nan nan]\n",
      "accepted =  []\n",
      "acceptance pourcentage =  0.0\n",
      "rejected =  []\n",
      "rejected pourcentage =  0.0\n"
     ]
    },
    {
     "ename": "ValueError",
     "evalue": "probabilities contain NaN",
     "output_type": "error",
     "traceback": [
      "\u001b[0;31m---------------------------------------------------------------------------\u001b[0m",
      "\u001b[0;31mValueError\u001b[0m                                Traceback (most recent call last)",
      "\u001b[1;32m/home/onyxia/work/Projet-Monte-Carlo/choosing_kernel.ipynb Cell 18\u001b[0m line \u001b[0;36m1\n\u001b[0;32m----> <a href='vscode-notebook-cell://user-fdexchamps-618749-0.user.lab.sspcloud.fr/home/onyxia/work/Projet-Monte-Carlo/choosing_kernel.ipynb#X66sdnNjb2RlLXJlbW90ZQ%3D%3D?line=0'>1</a>\u001b[0m SMC_sampler_v2(arg\u001b[39m=\u001b[39;49marg)\n",
      "\u001b[1;32m/home/onyxia/work/Projet-Monte-Carlo/choosing_kernel.ipynb Cell 18\u001b[0m line \u001b[0;36m3\n\u001b[1;32m     <a href='vscode-notebook-cell://user-fdexchamps-618749-0.user.lab.sspcloud.fr/home/onyxia/work/Projet-Monte-Carlo/choosing_kernel.ipynb#X66sdnNjb2RlLXJlbW90ZQ%3D%3D?line=31'>32</a>\u001b[0m theta_maj \u001b[39m=\u001b[39m theta[\u001b[39m'\u001b[39m\u001b[39mt\u001b[39m\u001b[39m'\u001b[39m]\n\u001b[1;32m     <a href='vscode-notebook-cell://user-fdexchamps-618749-0.user.lab.sspcloud.fr/home/onyxia/work/Projet-Monte-Carlo/choosing_kernel.ipynb#X66sdnNjb2RlLXJlbW90ZQ%3D%3D?line=32'>33</a>\u001b[0m weights_maj \u001b[39m=\u001b[39m weights[\u001b[39m'\u001b[39m\u001b[39mt\u001b[39m\u001b[39m'\u001b[39m]\n\u001b[0;32m---> <a href='vscode-notebook-cell://user-fdexchamps-618749-0.user.lab.sspcloud.fr/home/onyxia/work/Projet-Monte-Carlo/choosing_kernel.ipynb#X66sdnNjb2RlLXJlbW90ZQ%3D%3D?line=33'>34</a>\u001b[0m theta[\u001b[39m'\u001b[39m\u001b[39mt\u001b[39m\u001b[39m'\u001b[39m] \u001b[39m=\u001b[39m sample_from_M_t(N, theta[\u001b[39m'\u001b[39;49m\u001b[39mt-1\u001b[39;49m\u001b[39m'\u001b[39;49m], weights[\u001b[39m'\u001b[39;49m\u001b[39mt-1\u001b[39;49m\u001b[39m'\u001b[39;49m])\n\u001b[1;32m     <a href='vscode-notebook-cell://user-fdexchamps-618749-0.user.lab.sspcloud.fr/home/onyxia/work/Projet-Monte-Carlo/choosing_kernel.ipynb#X66sdnNjb2RlLXJlbW90ZQ%3D%3D?line=34'>35</a>\u001b[0m \u001b[39mprint\u001b[39m(\u001b[39m'\u001b[39m\u001b[39mtheta t = \u001b[39m\u001b[39m'\u001b[39m, theta[\u001b[39m'\u001b[39m\u001b[39mt\u001b[39m\u001b[39m'\u001b[39m][:\u001b[39m5\u001b[39m])\n\u001b[1;32m     <a href='vscode-notebook-cell://user-fdexchamps-618749-0.user.lab.sspcloud.fr/home/onyxia/work/Projet-Monte-Carlo/choosing_kernel.ipynb#X66sdnNjb2RlLXJlbW90ZQ%3D%3D?line=35'>36</a>\u001b[0m weights[\u001b[39m'\u001b[39m\u001b[39mt\u001b[39m\u001b[39m'\u001b[39m] \u001b[39m=\u001b[39m np\u001b[39m.\u001b[39marray([K((S(y)\u001b[39m-\u001b[39mS(x))\u001b[39m/\u001b[39mepsilon,sigma_hat(theta_hat))\u001b[39m/\u001b[39mepsilon \u001b[39mfor\u001b[39;00m theta_hat \u001b[39min\u001b[39;00m theta[\u001b[39m'\u001b[39m\u001b[39mt\u001b[39m\u001b[39m'\u001b[39m]])\u001b[39m/\u001b[39mnp\u001b[39m.\u001b[39marray([M_t(N,theta[\u001b[39m'\u001b[39m\u001b[39mt\u001b[39m\u001b[39m'\u001b[39m][i],theta[\u001b[39m'\u001b[39m\u001b[39mt-1\u001b[39m\u001b[39m'\u001b[39m],weights[\u001b[39m'\u001b[39m\u001b[39mt-1\u001b[39m\u001b[39m'\u001b[39m]) \u001b[39mfor\u001b[39;00m i \u001b[39min\u001b[39;00m \u001b[39mrange\u001b[39m(N)])\n",
      "\u001b[1;32m/home/onyxia/work/Projet-Monte-Carlo/choosing_kernel.ipynb Cell 18\u001b[0m line \u001b[0;36m7\n\u001b[1;32m      <a href='vscode-notebook-cell://user-fdexchamps-618749-0.user.lab.sspcloud.fr/home/onyxia/work/Projet-Monte-Carlo/choosing_kernel.ipynb#X66sdnNjb2RlLXJlbW90ZQ%3D%3D?line=3'>4</a>\u001b[0m normalized_weights \u001b[39m=\u001b[39m weights_prev\u001b[39m/\u001b[39mnp\u001b[39m.\u001b[39msum(weights_prev)\n\u001b[1;32m      <a href='vscode-notebook-cell://user-fdexchamps-618749-0.user.lab.sspcloud.fr/home/onyxia/work/Projet-Monte-Carlo/choosing_kernel.ipynb#X66sdnNjb2RlLXJlbW90ZQ%3D%3D?line=4'>5</a>\u001b[0m \u001b[39mfor\u001b[39;00m i \u001b[39min\u001b[39;00m \u001b[39mrange\u001b[39m(N):\n\u001b[1;32m      <a href='vscode-notebook-cell://user-fdexchamps-618749-0.user.lab.sspcloud.fr/home/onyxia/work/Projet-Monte-Carlo/choosing_kernel.ipynb#X66sdnNjb2RlLXJlbW90ZQ%3D%3D?line=5'>6</a>\u001b[0m     \u001b[39m# Choose a component based on the weights\u001b[39;00m\n\u001b[0;32m----> <a href='vscode-notebook-cell://user-fdexchamps-618749-0.user.lab.sspcloud.fr/home/onyxia/work/Projet-Monte-Carlo/choosing_kernel.ipynb#X66sdnNjb2RlLXJlbW90ZQ%3D%3D?line=6'>7</a>\u001b[0m     component \u001b[39m=\u001b[39m np\u001b[39m.\u001b[39mrandom\u001b[39m.\u001b[39mchoice(\u001b[39mrange\u001b[39m(N), p\u001b[39m=\u001b[39mnormalized_weights)\n\u001b[1;32m      <a href='vscode-notebook-cell://user-fdexchamps-618749-0.user.lab.sspcloud.fr/home/onyxia/work/Projet-Monte-Carlo/choosing_kernel.ipynb#X66sdnNjb2RlLXJlbW90ZQ%3D%3D?line=7'>8</a>\u001b[0m     \u001b[39m# Generate a sample from the chosen component\u001b[39;00m\n\u001b[1;32m      <a href='vscode-notebook-cell://user-fdexchamps-618749-0.user.lab.sspcloud.fr/home/onyxia/work/Projet-Monte-Carlo/choosing_kernel.ipynb#X66sdnNjb2RlLXJlbW90ZQ%3D%3D?line=8'>9</a>\u001b[0m     sample \u001b[39m=\u001b[39m np\u001b[39m.\u001b[39mrandom\u001b[39m.\u001b[39mmultivariate_normal(mean \u001b[39m=\u001b[39m theta_prev[component], cov \u001b[39m=\u001b[39m np\u001b[39m.\u001b[39mdiag([\u001b[39m0.25\u001b[39m,\u001b[39m0.25\u001b[39m,\u001b[39m1\u001b[39m,\u001b[39m1\u001b[39m]))\n",
      "File \u001b[0;32mnumpy/random/mtrand.pyx:971\u001b[0m, in \u001b[0;36mnumpy.random.mtrand.RandomState.choice\u001b[0;34m()\u001b[0m\n",
      "\u001b[0;31mValueError\u001b[0m: probabilities contain NaN"
     ]
    }
   ],
   "source": [
    "SMC_sampler_v2(arg=arg)"
   ]
  },
  {
   "cell_type": "code",
   "execution_count": 14,
   "metadata": {},
   "outputs": [
    {
     "data": {
      "text/plain": [
       "23"
      ]
     },
     "execution_count": 14,
     "metadata": {},
     "output_type": "execute_result"
    }
   ],
   "source": [
    "test = {'t' : [1,23,34]}\n",
    "test['t'][1]"
   ]
  },
  {
   "cell_type": "code",
   "execution_count": 7,
   "metadata": {},
   "outputs": [
    {
     "data": {
      "text/plain": [
       "[[1.849080237694725,\n",
       "  -0.049285693590083834,\n",
       "  219.59818254342153,\n",
       "  -120.40245474088903],\n",
       " [1.849080237694725,\n",
       "  -0.049285693590083834,\n",
       "  219.59818254342153,\n",
       "  -120.40245474088903]]"
      ]
     },
     "execution_count": 7,
     "metadata": {},
     "output_type": "execute_result"
    }
   ],
   "source": [
    "[prior_sample(42) for _ in range(2)]"
   ]
  },
  {
   "cell_type": "code",
   "execution_count": 10,
   "metadata": {},
   "outputs": [
    {
     "data": {
      "text/plain": [
       "array([[ 1.84908024e+00, -4.92856936e-02,  2.19598183e+02,\n",
       "        -1.20402455e+02],\n",
       "       [ 1.84908024e+00, -4.92856936e-02,  2.19598183e+02,\n",
       "        -1.20402455e+02]])"
      ]
     },
     "execution_count": 10,
     "metadata": {},
     "output_type": "execute_result"
    }
   ],
   "source": [
    "liste = np.array([prior_sample(42) for _ in range(2)])\n",
    "liste"
   ]
  },
  {
   "cell_type": "code",
   "execution_count": 11,
   "metadata": {},
   "outputs": [
    {
     "data": {
      "text/plain": [
       "(2, 4)"
      ]
     },
     "execution_count": 11,
     "metadata": {},
     "output_type": "execute_result"
    }
   ],
   "source": [
    "liste.shape"
   ]
  },
  {
   "cell_type": "code",
   "execution_count": null,
   "metadata": {},
   "outputs": [],
   "source": []
  }
 ],
 "metadata": {
  "kernelspec": {
   "display_name": "base",
   "language": "python",
   "name": "python3"
  },
  "language_info": {
   "codemirror_mode": {
    "name": "ipython",
    "version": 3
   },
   "file_extension": ".py",
   "mimetype": "text/x-python",
   "name": "python",
   "nbconvert_exporter": "python",
   "pygments_lexer": "ipython3",
   "version": "3.11.6"
  }
 },
 "nbformat": 4,
 "nbformat_minor": 2
}
