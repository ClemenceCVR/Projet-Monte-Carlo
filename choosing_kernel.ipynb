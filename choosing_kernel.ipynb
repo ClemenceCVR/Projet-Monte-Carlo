{
 "cells": [
  {
   "cell_type": "code",
   "execution_count": 124,
   "metadata": {},
   "outputs": [],
   "source": [
    "import numpy as np\n",
    "from scipy.stats import levy_stable\n",
    "from scipy.stats import uniform\n",
    "from scipy.stats import multivariate_normal"
   ]
  },
  {
   "cell_type": "code",
   "execution_count": 2,
   "metadata": {},
   "outputs": [],
   "source": [
    "def prior_sample(seed):\n",
    "    # Sample from prior distribution\n",
    "    # For univariate alpha-stable models, sample each parameter from its respective uniform distribution\n",
    "    np.random.seed(seed)\n",
    "    alpha = uniform.rvs(1.1, 2)  # U[1.1, 2]\n",
    "    beta = uniform.rvs(-1, 1)  # U[-1, 1]\n",
    "    gamma = uniform.rvs(0, 300)  # U[0, 300]\n",
    "    delta = uniform.rvs(-300, 300)  # U[-300, 300]\n",
    "    return [alpha, beta, gamma, delta]"
   ]
  },
  {
   "cell_type": "code",
   "execution_count": 24,
   "metadata": {},
   "outputs": [],
   "source": [
    "def univ_alpha_stable_sampler(params,size,seed) :\n",
    "    alpha,beta,gamma,delta = params[0],params[1],params[2],params[3]\n",
    "    #print(alpha,beta,gamma,delta)\n",
    "    y_bar = 0\n",
    "    np.random.seed(seed)\n",
    "    w = np.random.standard_exponential(size=size)\n",
    "    u = np.random.uniform(low = -np.pi/2, high = np.pi/2, size = size)\n",
    "    if alpha == 1 :\n",
    "        y_bar = 2/np.pi*((np.pi/2+beta*u)*np.tan(u)-beta*np.log((np.pi/2*w*np.cos(u))/(np.pi/2+beta*u)))\n",
    "        return gamma*y_bar + delta\n",
    "    else :\n",
    "        S = (1+beta**2*np.tan(np.pi*alpha/2)**2)**(1/(2*alpha))\n",
    "        B = 1/alpha*np.arctan(beta*np.tan(np.pi*alpha/2))\n",
    "        #print(S,B)\n",
    "        y_bar = (S*(np.sin(alpha)*(u+B))*(np.cos(u-alpha*(u+B))/w)**((1-alpha)/alpha))/np.cos(u)**(1/alpha)\n",
    "        return gamma*y_bar + delta"
   ]
  },
  {
   "cell_type": "code",
   "execution_count": 15,
   "metadata": {},
   "outputs": [],
   "source": [
    "def compute_quantiles(data):\n",
    "    # Compute quantile-based summary statistics\n",
    "    quantiles = np.percentile(data, [5, 25, 50, 75, 95])\n",
    "    v_alpha = (quantiles[4] - quantiles[0]) / (quantiles[3] - quantiles[1])\n",
    "    v_beta = (quantiles[4] + quantiles[0] - 2 * quantiles[2]) / (quantiles[4] - quantiles[0])\n",
    "    v_gamma = (quantiles[3] - quantiles[1]) / quantiles[2]\n",
    "    return v_alpha, v_beta, v_gamma"
   ]
  },
  {
   "cell_type": "code",
   "execution_count": 102,
   "metadata": {},
   "outputs": [],
   "source": [
    "def S(data):\n",
    "    # Compute summary statistics of the data\n",
    "    # This function should return low-dimensional summary statistics S(data)\n",
    "    # For univariate alpha-stable models, use quantile-based estimators along with the mean of the data\n",
    "    v_alpha, v_beta, v_gamma = compute_quantiles(data)\n",
    "    mean_x = np.mean(data)\n",
    "    return np.array([v_alpha, v_beta, v_gamma, mean_x])"
   ]
  },
  {
   "cell_type": "code",
   "execution_count": 71,
   "metadata": {},
   "outputs": [],
   "source": [
    "def psi(y, x, covariance = np.diag([0.25,0.25,1,1])):\n",
    "    # Define smoothing kernel using a Gaussian kernel with estimated covariance\n",
    "    return multivariate_normal.pdf(y, mean=x, cov=covariance)\n"
   ]
  },
  {
   "cell_type": "code",
   "execution_count": null,
   "metadata": {},
   "outputs": [],
   "source": [
    "def pi_LF(theta,y) :\n",
    "    \"\"\"give the approximate density pi_LF\n",
    "\n",
    "    Args:\n",
    "        theta (_type_): _description_\n",
    "        y (_type_): _description_\n",
    "    \"\"\"\n",
    "    [K((summary_statistics(y)-summary_statistics(x_i))/epsilon)/epsilon for x_i in x]\n",
    "    "
   ]
  },
  {
   "cell_type": "code",
   "execution_count": 46,
   "metadata": {},
   "outputs": [],
   "source": [
    "def sigma_hat(theta_hat,n_draws = 1000):\n",
    "    x = np.array([univ_alpha_stable_sampler(params = theta_hat, size = 200, seed=None) for _ in range(n_draws)])\n",
    "    sumary_statistics = np.array([S(x_i) for x_i in x])\n",
    "\n",
    "    return np.cov(sumary_statistics, rowvar=False)"
   ]
  },
  {
   "cell_type": "code",
   "execution_count": 50,
   "metadata": {},
   "outputs": [],
   "source": [
    "def norm2(u) :\n",
    "    return np.sqrt(np.sum(u*u))\n"
   ]
  },
  {
   "cell_type": "code",
   "execution_count": 68,
   "metadata": {},
   "outputs": [],
   "source": [
    "def K(u, sigma) :\n",
    "    d = sigma.shape[0]\n",
    "    #print(d)\n",
    "    return np.exp(-u.T@np.linalg.inv(sigma)@u/2)/(np.sqrt(2*np.pi*np.linalg.det(sigma)**2))**d\n",
    "\n",
    "\n"
   ]
  },
  {
   "cell_type": "code",
   "execution_count": 69,
   "metadata": {},
   "outputs": [],
   "source": [
    "def resample(theta, weights,N) :\n",
    "    theta['t'] = np.random.choice(theta['t-1'], size=N, replace=True, p=weignts)\n",
    "    weights['t'] = np.ones(N)/N"
   ]
  },
  {
   "cell_type": "code",
   "execution_count": 119,
   "metadata": {},
   "outputs": [],
   "source": [
    "def sample_from_M_t(N, theta_prev, weights_prev):\n",
    "    \n",
    "    samples = np.zeros((N, 4))\n",
    "    normalized_weights = weights_prev/np.sum(weights_prev)\n",
    "    for i in range(N):\n",
    "        # Choose a component based on the weights\n",
    "        component = np.random.choice(range(N), p=normalized_weights)\n",
    "        # Generate a sample from the chosen component\n",
    "        sample = np.random.multivariate_normal(mean = theta_prev[component], cov = np.diag([0.25,0.25,1,1]))\n",
    "        samples[i] = sample\n",
    "        \n",
    "    return samples  "
   ]
  },
  {
   "cell_type": "code",
   "execution_count": 122,
   "metadata": {},
   "outputs": [],
   "source": [
    "def M_t(N,theta_i,theta_prev, weights_prev) :\n",
    "    densities = np.array([ psi(theta_i, theta_prev[i]) for i in range(N)])\n",
    "    return np.sum(weights_prev*densities)\n",
    "    "
   ]
  },
  {
   "cell_type": "code",
   "execution_count": 110,
   "metadata": {},
   "outputs": [],
   "source": [
    "def SMC_sampler(T=10,N =1000,n=200,covariance = np.diag([0.25, 0.25, 1, 1]), seed=42) :\n",
    "    epsilons = [k for k in range(1000,100, -100)]+[k for k in range(100,9, -1)] + [k+0.5 for k in range(9,4,-1)] + [5-k*0.05 for k in range(40)]+[3-0.01*k for k in range(301)]  # Tolerance schedule\n",
    "    y = levy_stable.rvs(1.7, 0.9, loc=10, scale=10, size=200)\n",
    "    ###--------Initialization :\n",
    "    epsilon = epsilons[0]\n",
    "    # 1 - sample theta from the prior : \n",
    "    # theta is a Nx4 matrix containing all the N theta_i\n",
    "    initial_theta = np.array([prior_sample(seed) for _ in range(N)])\n",
    "    theta = {\"t\" : initial_theta , \"t-1\" :initial_theta }\n",
    "    # set weights their initial values :\n",
    "    x = np.array([univ_alpha_stable_sampler(params=theta['t'][i], size=n, seed=seed) for i in range(N)])\n",
    "    print('x.shape = ',x.shape)\n",
    "    initial_weights = np.array([K((S(y)-S(x))/epsilon,sigma_hat(theta_hat))/epsilon for theta_hat in theta['t']])\n",
    "    print(\"weights = \", initial_weights)\n",
    "    print(\" sum(weights) = \", np.sum(initial_weights))\n",
    "    weights = {\"t\" : initial_weights, \"t-1\" : initial_weights}\n",
    "    t=1\n",
    "    while t<T :\n",
    "        epsilon = epsilons[t]\n",
    "        i = 1\n",
    "        while i<N : \n",
    "            # Mutation and correction : \n",
    "            theta_maj = theta['t']\n",
    "            weights_maj = weights['t']\n",
    "            theta['t'] = sample_from_M_t(N, theta['t-1'], weights['t-1'])\n",
    "            weights['t'] = np.array([K((S(y)-S(x))/epsilon,sigma_hat(theta_hat))/epsilon for theta_hat in theta['t']])/np.array([M_t(theta['t'][i],theta['t-1'],weights['t-1']) for i in range(N)])\n",
    "            theta['t-1'] = theta_maj\n",
    "            weights['t-1'] = weights_maj\n",
    "            u = np.random.uniform(low=0, high=1, size=N)\n",
    "            c_t = np.quantile(weights['t'], 0.9)\n",
    "            proba = 1-np.minimum(1,weights['t']/c_t)\n",
    "            rejected = theta['t'][u<=proba]\n",
    "            accepted = theta['t'][u>proba]\n",
    "            print(\"accepted = \" ,accepted)\n",
    "            print(\"acceptance pourcentage = \", len(accepted)*100/N)\n",
    "            print(\"rejected = \" ,rejected)\n",
    "            print(\"rejected pourcentage = \", len(rejected)*100/N) \n",
    "            if proba<u : \n",
    "                continue\n",
    "            else : \n",
    "                i+=1\n",
    "                continue \n",
    "        # Resample : \n",
    "        resample(theta,weights,N)\n",
    "        print(\"theta = \", theta)\n",
    "        print(\"weights = \", weights)\n",
    "\n",
    "\n",
    "\n",
    "    \n",
    "\n",
    "\n",
    "\n",
    "\n"
   ]
  },
  {
   "cell_type": "code",
   "execution_count": 125,
   "metadata": {},
   "outputs": [],
   "source": [
    "def SMC_sampler_v2(arg, T=10,N =1000,n=200,covariance = np.diag([0.25, 0.25, 1, 1]), seed=42) :\n",
    "    #epsilons = [k for k in range(1000,100, -100)]+[k for k in range(100,9, -1)] + [k+0.5 for k in range(9,4,-1)] + [5-k*0.05 for k in range(40)]+[3-0.01*k for k in range(301)]  # Tolerance schedule\n",
    "    epsilons = [3-0.01*k for k in range(301)]\n",
    "    T = len(epsilons)\n",
    "\n",
    "    #y = levy_stable.rvs(1.7, 0.9, loc=10, scale=10, size=200)\n",
    "    ###--------Initialization :\n",
    "    epsilon = epsilons[0]\n",
    "    # 1 - sample theta from the prior : \n",
    "    # theta is a Nx4 matrix containing all the N theta_i\n",
    "    #initial_theta = np.array([prior_sample(seed) for _ in range(N)])\n",
    "    #theta = {\"t\" : initial_theta , \"t-1\" :initial_theta }\n",
    "    # set weights their initial values :\n",
    "    #x = np.array([univ_alpha_stable_sampler(params=theta['t'][i], size=n, seed=seed) for i in range(N)])\n",
    "    #print('x.shape = ',x.shape)\n",
    "    #initial_weights = np.array([K((S(y)-S(x))/epsilon,sigma_hat(theta_hat))/epsilon for theta_hat in theta['t']])\n",
    "    #print(\"weights = \", initial_weights)\n",
    "    #print(\" sum(weights) = \", np.sum(initial_weights))\n",
    "    #weights = {\"t\" : initial_weights, \"t-1\" : initial_weights}\n",
    "    y,x,theta,weights = arg\n",
    "    t=1\n",
    "    res = []\n",
    "    print(\"INITIALIZATION IS DONE :)\")\n",
    "    while t<T :\n",
    "        print(\"t = \",t)\n",
    "        epsilon = epsilons[t]\n",
    "        print(\"epsilon = \",epsilon)\n",
    "        accepted = []\n",
    "        rejected = []\n",
    "        while len(accepted)<N : \n",
    "            # Mutation and correction : \n",
    "            theta_maj = theta['t']\n",
    "            weights_maj = weights['t']\n",
    "            theta['t'] = sample_from_M_t(N, theta['t-1'], weights['t-1'])\n",
    "            print('theta t = ', theta['t'][:5])\n",
    "            weights['t'] = np.array([K((S(y)-S(x))/epsilon,sigma_hat(theta_hat))/epsilon for theta_hat in theta['t']])/np.array([M_t(N,theta['t'][i],theta['t-1'],weights['t-1']) for i in range(N)])\n",
    "            print('weights t = ', weights['t'][:5])\n",
    "            theta['t-1'] = theta_maj\n",
    "            weights['t-1'] = weights_maj\n",
    "            u = np.random.uniform(low=0, high=1, size=N)\n",
    "            c_t = np.quantile(weights['t'], 0.9)\n",
    "            proba = 1-np.minimum(1,weights['t']/c_t)\n",
    "            print('proba = ', proba[:10])\n",
    "            rejected = theta['t'][u<=proba]\n",
    "            accepted = theta['t'][u>proba]\n",
    "            print(\"accepted = \" ,accepted)\n",
    "            print(\"acceptance pourcentage = \", len(accepted)*100/N)\n",
    "            print(\"rejected = \" ,rejected)\n",
    "            print(\"rejected pourcentage = \", len(rejected)*100/N)\n",
    "        t+=1\n",
    "        res.append((theta['t'], weights['t']))\n",
    "        # Resample : \n",
    "        resample(theta,weights,N)\n",
    "        print(\"theta = \", theta)\n",
    "        print(\"weights = \", weights)\n"
   ]
  },
  {
   "cell_type": "code",
   "execution_count": 116,
   "metadata": {},
   "outputs": [],
   "source": [
    "def initialization(T=10,N =1000,n=200,covariance = np.diag([0.25, 0.25, 1, 1]), seed=42) :\n",
    "    #epsilons = [k for k in range(1000,100, -100)]+[k for k in range(100,9, -1)] + [k+0.5 for k in range(9,4,-1)] + [5-k*0.05 for k in range(40)]+[3-0.01*k for k in range(301)]  # Tolerance schedule\n",
    "    epsilons = [3-0.01*k for k in range(301)]\n",
    "    T = len(epsilons)\n",
    "    y = levy_stable.rvs(1.7, 0.9, loc=10, scale=10, size=200)\n",
    "    ###--------Initialization :\n",
    "    epsilon = epsilons[0]\n",
    "    # 1 - sample theta from the prior : \n",
    "    # theta is a Nx4 matrix containing all the N theta_i\n",
    "    initial_theta = np.array([prior_sample(seed) for _ in range(N)])\n",
    "    theta = {\"t\" : initial_theta , \"t-1\" :initial_theta }\n",
    "    # set weights their initial values :\n",
    "    x = np.array([univ_alpha_stable_sampler(params=theta['t'][i], size=n, seed=seed) for i in range(N)])\n",
    "    print('x.shape = ',x.shape)\n",
    "    initial_weights = np.array([K((S(y)-S(x))/epsilon,sigma_hat(theta_hat))/epsilon for theta_hat in theta['t']])\n",
    "    print(\"weights = \", initial_weights)\n",
    "    print(\" sum(weights) = \", np.sum(initial_weights))\n",
    "    weights = {\"t\" : initial_weights, \"t-1\" : initial_weights}\n",
    "\n",
    "    return y,x,theta, weights"
   ]
  },
  {
   "cell_type": "code",
   "execution_count": 117,
   "metadata": {},
   "outputs": [
    {
     "name": "stdout",
     "output_type": "stream",
     "text": [
      "x.shape =  (1000, 200)\n",
      "weights =  [3.89118803e-17 2.04789796e-17 5.68025850e-18 8.69939381e-18\n",
      " 3.80472378e-17 3.66761400e-17 2.13824317e-17 1.38039639e-17\n",
      " 2.07204563e-17 7.55453584e-17 2.63036940e-17 2.08113112e-16\n",
      " 9.74986041e-17 3.19241889e-17 6.78980227e-20 4.44349085e-17\n",
      " 1.21764898e-17 6.50918933e-18 5.50621955e-16 2.66176735e-18\n",
      " 3.37594693e-19 1.78576184e-17 1.19644281e-17 3.10130106e-16\n",
      " 2.16458590e-22 2.81669756e-19 6.04094933e-18 2.63422918e-18\n",
      " 5.41834418e-17 2.42549989e-18 7.34601254e-18 1.01566825e-17\n",
      " 6.28532422e-17 2.03640010e-17 9.10553022e-18 8.91083996e-18\n",
      " 1.14969970e-16 2.67400803e-18 1.50895597e-17 3.86974954e-18\n",
      " 5.53268002e-16 2.38923390e-16 7.43524808e-17 2.50441300e-17\n",
      " 9.14926061e-18 5.95028853e-17 1.17530236e-16 2.63464128e-17\n",
      " 3.94003984e-16 1.11017312e-16 3.74973687e-20 5.18386861e-17\n",
      " 4.98366126e-17 9.07629653e-17 3.53684588e-17 6.29934838e-17\n",
      " 1.36755650e-16 2.59457072e-17 4.81436203e-17 1.77900462e-17\n",
      " 7.52090082e-17 1.37014105e-16 2.74074301e-17 4.93877801e-17\n",
      " 1.03240096e-17 5.18937698e-18 2.17543226e-16 9.09154933e-17\n",
      " 9.88573015e-18 1.04999356e-17 2.50932849e-18 1.32226481e-17\n",
      " 7.79414579e-17 6.54832286e-18 8.52822691e-19 1.20219918e-16\n",
      " 2.70897591e-16 1.16969927e-16 1.03961085e-17 3.90303346e-17\n",
      " 8.46312266e-17 3.32841443e-17 5.94505594e-17 1.05394323e-16\n",
      " 6.10014378e-17 3.01084100e-18 2.06407275e-17 1.05590246e-17\n",
      " 3.60764552e-19 1.59804279e-16 5.58991160e-17 9.45089830e-17\n",
      " 1.45389839e-17 6.68830998e-16 1.20224255e-16 5.60659854e-17\n",
      " 4.46089174e-18 1.36526369e-16 4.59197042e-17 4.61670923e-19\n",
      " 1.61972216e-16 7.35296708e-18 1.59677675e-17 3.65354296e-17\n",
      " 1.76319604e-17 1.57938092e-16 2.61421128e-18 1.58481442e-17\n",
      " 2.09515846e-17 2.33233504e-16 2.41717126e-17 8.16573357e-18\n",
      " 1.96692414e-17 7.98043615e-17 3.67943669e-18 8.91326166e-18\n",
      " 2.48696151e-16 2.23003506e-16 2.16751925e-17 4.89307163e-17\n",
      " 1.39367503e-17 9.99821571e-25 3.07183850e-17 4.21881621e-17\n",
      " 8.55684013e-20 4.75539853e-18 4.09266373e-21 2.39934221e-16\n",
      " 1.77012424e-16 1.24587121e-19 1.19021690e-17 1.36832608e-16\n",
      " 5.94968974e-24 7.07314683e-17 1.44207287e-18 6.59128191e-17\n",
      " 3.10872793e-17 4.99748375e-17 5.12782184e-17 2.90732965e-18\n",
      " 5.51126139e-18 7.05101296e-18 2.01403940e-16 2.58218758e-16\n",
      " 7.37133712e-18 1.49876348e-17 5.79468394e-17 2.41448337e-17\n",
      " 1.45983066e-16 1.56278255e-16 1.36874821e-16 5.06775968e-17\n",
      " 8.98192472e-21 1.55544538e-19 5.01741457e-16 2.66640256e-25\n",
      " 2.30728061e-16 4.41861374e-17 1.99799267e-16 9.63858528e-18\n",
      " 9.77971595e-19 1.46896909e-17 2.13645980e-16 1.66135888e-16\n",
      " 8.61915582e-19 1.77813320e-17 1.69821613e-19 2.16808196e-17\n",
      " 1.27918461e-16 1.75315206e-16 9.66733507e-17 2.29253677e-16\n",
      " 1.38380378e-16 2.37187719e-17 2.46198626e-17 7.58615932e-17\n",
      " 5.57367745e-17 2.50949500e-17 9.44910193e-18 1.64502864e-17\n",
      " 6.94686961e-17 5.17945248e-17 3.18442596e-19 3.32091273e-18\n",
      " 3.98570343e-18 9.57124073e-17 2.58685710e-16 4.16415331e-19\n",
      " 6.76787236e-24 4.82086493e-19 2.37516666e-17 1.49443138e-18\n",
      " 1.79131047e-17 3.68803253e-16 9.38588150e-17 4.69948373e-19\n",
      " 1.42590073e-17 7.28997155e-19 4.92529309e-18 3.30882194e-17\n",
      " 1.01552802e-16 1.66440137e-16 6.32474752e-17 5.18634362e-21\n",
      " 1.00180589e-16 1.56993863e-17 1.14609782e-17 7.27404591e-17\n",
      " 4.03688157e-17 1.05284339e-16 2.22257132e-16 4.66454301e-19\n",
      " 1.78551129e-17 1.89004295e-16 1.53475657e-17 2.68863159e-17\n",
      " 4.42989779e-17 1.88400848e-18 3.52851831e-16 9.55960666e-16\n",
      " 1.78379493e-17 2.99282128e-17 7.04247266e-18 7.55323450e-20\n",
      " 7.69782040e-19 1.42110624e-17 9.25175320e-17 2.03229705e-16\n",
      " 3.95950395e-16 8.64631591e-18 2.17832819e-17 1.05496955e-16\n",
      " 1.45427162e-16 1.16214859e-16 2.70420300e-18 3.09327376e-17\n",
      " 2.75937035e-17 2.63762521e-16 3.30110619e-17 4.75919758e-17\n",
      " 6.02088230e-17 7.70334576e-16 5.06290594e-17 3.31334322e-17\n",
      " 3.19462213e-16 4.58678798e-17 7.71332284e-19 2.54660522e-18\n",
      " 1.95117965e-16 5.76821150e-17 7.41987581e-17 7.64121196e-17\n",
      " 4.05275390e-17 6.51801699e-16 1.80122254e-17 4.09168719e-17\n",
      " 8.86644230e-17 4.65980062e-17 4.74865410e-18 1.39093408e-17\n",
      " 1.59359397e-16 1.40343930e-16 1.71234906e-17 7.13110139e-17\n",
      " 5.84186312e-17 6.13102893e-19 1.20773576e-18 1.76004967e-18\n",
      " 8.58618936e-17 6.26813273e-20 4.43548029e-20 1.43438313e-19\n",
      " 2.00831942e-16 3.94864093e-17 3.35542533e-17 2.07521116e-16\n",
      " 1.11186934e-16 4.07868726e-21 6.96344265e-17 7.22892304e-17\n",
      " 1.08432468e-16 7.06324307e-17 1.07368987e-16 8.48928508e-17\n",
      " 1.49763200e-17 3.18368335e-17 2.87431278e-16 6.85437839e-17\n",
      " 7.53870173e-18 5.08927500e-16 1.21277913e-16 2.59502057e-17\n",
      " 1.09490077e-16 1.02554192e-18 8.90084301e-17 9.55209885e-17\n",
      " 1.47786180e-19 6.36229510e-18 3.54167573e-21 1.50761910e-16\n",
      " 6.71008658e-18 2.14852986e-18 1.10897362e-18 6.35361927e-20\n",
      " 4.13449619e-16 1.08683918e-17 1.71776054e-16 3.26416143e-18\n",
      " 3.27145070e-18 3.46069871e-17 1.81932435e-16 3.60701656e-17\n",
      " 2.71436147e-17 6.78946900e-18 2.42962739e-17 1.09200704e-18\n",
      " 1.95955884e-18 2.55122512e-17 1.73907525e-17 7.38904085e-17\n",
      " 1.35378302e-21 1.61295597e-17 1.45758507e-16 1.23117790e-19\n",
      " 4.83191340e-17 2.54189742e-16 2.48364886e-18 2.27226595e-16\n",
      " 5.30105300e-19 1.87767747e-16 4.96973374e-17 2.41729708e-17\n",
      " 7.54626954e-18 5.50433091e-18 6.96578163e-17 2.00902708e-17\n",
      " 4.66298656e-18 4.37328081e-16 1.87065707e-16 9.50757787e-18\n",
      " 4.44584066e-17 3.66340253e-17 2.10839329e-17 4.08307790e-20\n",
      " 7.75098697e-18 1.47757064e-17 4.08690970e-17 7.72996743e-17\n",
      " 2.45249822e-17 1.50062496e-16 4.67845520e-17 4.35495535e-16\n",
      " 2.89299535e-16 9.35955400e-17 5.16639113e-17 1.09027988e-16\n",
      " 5.00017137e-18 2.04837891e-18 3.41088913e-17 5.21856672e-17\n",
      " 4.41677966e-17 7.99431102e-16 1.50122715e-17 2.25849893e-16\n",
      " 1.05470928e-16 2.02841438e-22 5.79315697e-17 1.75964716e-16\n",
      " 1.58758332e-17 1.22520576e-17 2.17839971e-17 1.71772730e-16\n",
      " 9.26586533e-17 2.14135885e-17 7.42892893e-17 5.21700622e-18\n",
      " 1.34074868e-16 4.85771726e-19 1.63096511e-17 2.15012051e-19\n",
      " 1.23803542e-21 6.45021886e-17 7.59687481e-17 1.17457720e-16\n",
      " 6.54776594e-17 2.34014787e-16 3.52874041e-17 1.82559905e-16\n",
      " 3.96418650e-17 2.19993867e-17 3.77331056e-20 1.24589065e-16\n",
      " 9.32450712e-17 1.58196836e-16 1.30373088e-18 4.97678306e-18\n",
      " 5.59195824e-16 4.78135011e-18 1.99305941e-16 4.41769063e-17\n",
      " 2.50698611e-16 1.54563338e-17 8.81819433e-17 5.75916453e-17\n",
      " 3.57707932e-17 7.27791378e-17 5.67122063e-18 1.13773629e-17\n",
      " 3.82441067e-18 1.04647654e-16 3.93595050e-17 3.95343393e-17\n",
      " 1.18499475e-16 1.84567130e-16 6.52481279e-17 2.25957994e-17\n",
      " 1.56274949e-17 3.87581518e-17 8.09221355e-17 5.78007524e-18\n",
      " 1.74365982e-16 6.13570921e-17 8.07362449e-18 6.97623567e-17\n",
      " 2.84281080e-18 1.19148438e-17 2.03181606e-18 8.74821465e-18\n",
      " 6.93556093e-17 3.90411350e-17 4.70361476e-17 9.81633113e-18\n",
      " 6.86024925e-21 4.73182532e-17 2.44148114e-16 8.45798388e-18\n",
      " 2.15828700e-16 6.10672340e-18 4.55043307e-17 6.22586285e-17\n",
      " 1.15155432e-16 5.45038104e-17 2.82051760e-17 1.65949402e-16\n",
      " 2.41736677e-16 4.87490425e-24 1.67962220e-17 4.64057123e-17\n",
      " 2.85040354e-18 1.63363935e-17 4.59209091e-19 1.77694233e-17\n",
      " 2.43390417e-18 2.21899274e-16 1.86151461e-17 5.11701382e-17\n",
      " 1.41195478e-20 1.38941115e-21 6.41780195e-17 1.12277725e-16\n",
      " 2.16552075e-17 1.03912331e-17 6.11282957e-18 7.23634650e-17\n",
      " 3.50073351e-17 1.31649971e-16 5.10381985e-18 1.56906792e-16\n",
      " 2.29270722e-17 1.71516416e-16 1.14859981e-16 1.76825588e-18\n",
      " 1.78327706e-17 1.14939617e-16 3.25658572e-17 8.67871727e-18\n",
      " 1.39446541e-16 6.71165931e-19 9.95868017e-18 1.33683381e-16\n",
      " 1.58077493e-16 2.18197986e-18 3.95426849e-16 4.08119686e-17\n",
      " 6.40120606e-17 6.83517078e-17 5.19481172e-16 8.23108297e-17\n",
      " 3.05363445e-18 3.14870038e-18 3.46196660e-18 7.70118841e-18\n",
      " 1.46788656e-18 1.50786846e-17 6.89238320e-23 1.09389585e-17\n",
      " 1.25180531e-16 7.79480786e-17 6.20765784e-18 1.56469540e-17\n",
      " 8.55019014e-18 7.56203553e-17 2.26614481e-17 6.21081649e-17\n",
      " 1.59723136e-16 1.63891295e-17 4.48084591e-17 3.52197481e-16\n",
      " 2.00479357e-16 1.34098903e-17 9.70400721e-17 1.06556789e-18\n",
      " 7.21539651e-19 2.15190732e-16 1.81062763e-16 9.02161572e-18\n",
      " 1.05738689e-17 1.29582698e-18 4.27093026e-17 1.24792358e-16\n",
      " 1.67031565e-16 5.39919168e-17 1.14643041e-20 3.17500455e-18\n",
      " 6.39456490e-17 1.18680354e-17 4.78162144e-18 2.75937196e-18\n",
      " 1.23085016e-19 2.13850566e-16 2.87315161e-16 2.39258512e-20\n",
      " 2.80091950e-18 5.95708103e-20 6.53324439e-18 1.52875754e-17\n",
      " 9.86734262e-17 1.88617758e-16 2.60810252e-16 2.48989827e-17\n",
      " 1.90130354e-16 2.77721258e-17 4.35233775e-18 6.71667564e-17\n",
      " 1.00885031e-16 2.88647305e-18 2.03800021e-16 3.88537270e-17\n",
      " 5.66718440e-19 1.14875674e-16 3.68996626e-18 3.44746535e-16\n",
      " 3.24475051e-17 2.11261964e-17 1.24430206e-16 4.68194790e-17\n",
      " 1.37983846e-17 5.24860036e-17 2.77334026e-16 1.77735870e-16\n",
      " 8.83550743e-16 9.57515858e-20 1.80227135e-18 1.28509163e-17\n",
      " 7.06384478e-17 2.01373413e-17 7.89828660e-17 2.62098811e-16\n",
      " 7.68134108e-16 5.03551000e-19 6.33383116e-17 9.34617414e-17\n",
      " 1.63797008e-19 1.40296746e-16 1.92441539e-16 2.80011100e-17\n",
      " 2.36080309e-24 1.18950129e-16 2.14436373e-19 1.81321900e-18\n",
      " 9.88825908e-17 1.46407032e-16 1.10801305e-16 1.22214536e-18\n",
      " 1.25134708e-19 3.35936376e-17 4.78874033e-17 1.43424883e-16\n",
      " 2.60581204e-18 1.92613020e-16 3.04917607e-18 2.43739413e-18\n",
      " 4.52364663e-17 1.31492780e-18 3.54596855e-17 1.32954414e-17\n",
      " 1.69502673e-16 2.86701630e-17 3.41413022e-17 3.49012144e-17\n",
      " 4.72265870e-17 4.58674366e-16 1.48690495e-18 2.85287175e-18\n",
      " 1.70261954e-16 1.53049271e-16 7.81968766e-17 2.27343947e-16\n",
      " 3.10008525e-20 4.60762505e-16 1.05255874e-16 1.66048718e-16\n",
      " 1.33792415e-16 6.31892005e-18 8.46285437e-18 5.02958510e-17\n",
      " 1.91585543e-16 2.63237684e-17 6.80328368e-17 1.16120155e-15\n",
      " 8.10049855e-26 9.01721747e-19 3.09521721e-19 1.19136024e-17\n",
      " 3.40849124e-22 3.57600089e-17 1.63486486e-16 6.00451774e-20\n",
      " 9.14125809e-18 6.55835705e-18 2.48196015e-16 1.10515622e-23\n",
      " 1.89294251e-16 9.35627943e-17 5.12539565e-18 9.50035347e-18\n",
      " 7.16402307e-17 2.81958365e-17 3.09826105e-16 5.41996125e-17\n",
      " 5.87390241e-17 2.00109688e-16 1.33971894e-16 2.79652564e-16\n",
      " 7.05466192e-17 2.23684864e-17 1.89382758e-16 9.71213122e-17\n",
      " 2.89124153e-16 1.09798003e-16 1.62842603e-20 1.81122645e-19\n",
      " 1.37111890e-21 1.36959354e-16 5.73690820e-18 1.04852239e-16\n",
      " 1.70777687e-17 6.62341411e-17 2.27572332e-16 2.57756870e-17\n",
      " 1.29623459e-17 1.94322842e-17 1.31241260e-17 4.65525992e-17\n",
      " 9.33201440e-17 1.25379094e-16 1.45877257e-17 2.45338672e-17\n",
      " 6.76381708e-19 1.16416809e-17 3.59968745e-18 2.92855192e-18\n",
      " 4.84632256e-18 1.23584944e-17 1.57851752e-18 6.08569932e-17\n",
      " 1.13980467e-17 1.00723593e-16 3.45065296e-20 8.78961834e-18\n",
      " 4.70462062e-17 8.04272356e-17 3.87404169e-16 6.10783718e-17\n",
      " 1.62179846e-21 4.76397898e-17 9.54229548e-17 9.62141854e-17\n",
      " 4.50189162e-17 7.59522023e-17 3.27246420e-17 1.04650043e-16\n",
      " 1.23900312e-16 1.34544427e-17 2.11972321e-16 3.01084450e-18\n",
      " 2.46311775e-19 1.35928434e-17 5.17624189e-17 4.89360337e-17\n",
      " 7.59186884e-19 8.89472524e-19 9.60193006e-18 4.81220060e-16\n",
      " 1.71599450e-16 1.86547799e-17 2.50919793e-16 3.12382471e-16\n",
      " 3.84879190e-17 5.79096340e-17 8.90584287e-17 1.50045667e-17\n",
      " 1.75068773e-16 1.77439607e-17 4.14512299e-17 1.06749916e-18\n",
      " 1.87688047e-17 8.51427633e-17 4.94537075e-17 6.57288674e-17\n",
      " 7.22623296e-17 3.44626030e-17 4.14784513e-16 5.52873925e-17\n",
      " 8.72931498e-17 1.47233678e-17 4.12576520e-18 1.00086723e-17\n",
      " 7.22822502e-17 1.18415259e-18 8.36707774e-18 1.57772747e-16\n",
      " 1.23033211e-16 8.27214816e-17 3.28564173e-17 2.54565209e-16\n",
      " 3.28340091e-25 7.75077432e-18 2.20775901e-16 1.53327305e-17\n",
      " 2.71290919e-16 1.18428983e-16 3.77560266e-17 5.61100677e-17\n",
      " 1.55001961e-17 4.22881488e-23 1.42405616e-17 6.62009869e-17\n",
      " 1.46563601e-16 1.13031367e-16 8.14038068e-24 1.39760121e-16\n",
      " 7.27985819e-17 3.73833736e-17 4.77068922e-16 1.40735822e-16\n",
      " 7.27105851e-17 2.71326362e-17 5.02563880e-17 1.53821280e-20\n",
      " 4.15849882e-17 6.97307958e-17 3.86006781e-17 2.68628354e-17\n",
      " 5.95551059e-19 1.24663544e-16 3.04067046e-18 4.76946394e-18\n",
      " 4.81436322e-17 5.42171746e-17 5.91022388e-17 1.67714091e-16\n",
      " 8.97041743e-17 1.12028959e-19 1.21150167e-16 1.39285059e-18\n",
      " 1.91481467e-17 2.71102247e-17 5.22655109e-17 6.14938975e-17\n",
      " 7.54187932e-18 5.08719457e-18 3.50996418e-17 4.92337667e-17\n",
      " 1.45521773e-17 5.04238115e-18 2.07050337e-17 5.37527359e-18\n",
      " 3.09495857e-16 5.36350695e-16 1.73194243e-17 9.10252666e-18\n",
      " 4.03101217e-16 1.06041511e-18 1.29357974e-17 1.98822919e-16\n",
      " 1.44625097e-17 1.21349718e-16 4.10212346e-18 2.90263428e-16\n",
      " 2.49166505e-16 2.47280674e-16 1.31078777e-18 2.93849990e-19\n",
      " 2.50848119e-17 2.80669703e-17 5.03996530e-17 2.28226606e-16\n",
      " 8.72494643e-17 4.06173838e-17 4.29434278e-18 4.31675439e-17\n",
      " 1.44738895e-19 7.24479323e-19 3.21982651e-18 5.48920210e-17\n",
      " 5.07906556e-17 8.52233796e-16 4.84732406e-17 5.13788065e-17\n",
      " 3.84942403e-18 5.91622706e-20 1.60053337e-16 1.22924645e-16\n",
      " 7.56881262e-17 8.81321903e-18 7.65906772e-17 6.52266264e-16\n",
      " 9.70171941e-18 4.75732039e-17 4.01281019e-17 4.85266973e-19\n",
      " 4.55817773e-17 7.80465973e-17 1.41568250e-18 7.16815813e-17\n",
      " 5.63903818e-17 5.04023453e-17 9.99641034e-20 5.30551519e-17\n",
      " 7.79184356e-17 7.28268034e-17 8.82919452e-20 5.42468817e-17\n",
      " 9.93811274e-17 1.55174482e-16 8.24244447e-17 1.44168009e-16\n",
      " 1.71045918e-17 3.16835273e-20 1.09295858e-16 2.28342521e-17\n",
      " 1.95011219e-17 3.62300437e-17 2.11384100e-17 2.90715942e-18\n",
      " 6.64427953e-17 6.21042472e-17 1.21857778e-16 1.76402324e-17\n",
      " 2.69782348e-16 1.48038978e-18 1.11273892e-16 2.47266953e-17\n",
      " 1.48546397e-16 6.71690519e-17 7.28697139e-19 2.87544976e-16\n",
      " 1.72956342e-17 5.71807815e-18 1.15267327e-17 6.74411851e-17\n",
      " 3.09122216e-16 1.12736580e-16 3.03941388e-16 2.42910592e-17\n",
      " 3.59356874e-18 1.52487765e-18 1.88296214e-17 6.04378395e-17\n",
      " 6.79723097e-19 1.46910811e-16 6.46046933e-17 5.96640699e-17\n",
      " 5.96424528e-17 1.28093093e-17 1.51631879e-16 6.99892281e-17\n",
      " 1.46777852e-16 4.27201697e-17 2.91500742e-17 1.21328616e-17\n",
      " 2.84200619e-17 2.12715873e-16 6.18893870e-16 7.90469710e-17\n",
      " 1.21601252e-17 2.54355912e-19 1.29669678e-16 9.19949463e-18\n",
      " 1.95646988e-17 2.22813717e-18 1.08691784e-18 1.31230352e-17\n",
      " 2.67004021e-17 2.18659056e-16 9.36075456e-18 8.39003270e-17\n",
      " 1.04749356e-15 8.96337633e-17 3.45465932e-18 1.57595213e-18\n",
      " 1.15191666e-16 8.98591100e-17 3.83927169e-18 1.58109164e-17\n",
      " 8.51055620e-24 1.25791836e-16 5.48786091e-17 2.43984264e-17\n",
      " 4.22939389e-16 2.49505277e-17 1.45923585e-22 6.18154450e-17\n",
      " 1.33216907e-16 5.61647431e-17 7.24903329e-18 1.24829322e-16\n",
      " 1.11501748e-25 9.12858608e-19 6.07082846e-18 3.50118796e-17\n",
      " 1.49554636e-17 5.06409342e-21 8.80911806e-18 3.92084826e-18\n",
      " 4.97620857e-17 2.60062448e-18 2.76013626e-18 1.25520778e-16\n",
      " 1.77898834e-18 1.60280102e-16 7.09552741e-18 4.18570999e-17\n",
      " 1.15687510e-17 1.25175519e-17 1.26175674e-16 1.39520137e-16\n",
      " 1.65653016e-17 1.02960309e-17 3.33192858e-17 5.96222595e-18\n",
      " 1.09689945e-17 2.96053455e-17 1.22025014e-17 1.24839336e-17\n",
      " 2.87430163e-17 1.37486876e-19 8.65427080e-18 2.42942076e-18\n",
      " 9.10286771e-17 2.16444585e-18 5.48622252e-17 5.65556026e-18\n",
      " 5.30984957e-17 7.21218018e-17 4.73440120e-18 2.14727414e-16\n",
      " 1.42904524e-16 4.11618752e-16 4.14553569e-17 1.84666481e-17\n",
      " 4.47008120e-17 3.29292314e-17 1.19866270e-19 1.01539425e-16\n",
      " 1.57210252e-18 5.31919866e-17 3.19679475e-17 2.63715096e-18\n",
      " 4.22866216e-18 2.68349165e-17 2.28593750e-16 7.78679996e-19\n",
      " 1.42642407e-17 2.69172475e-17 2.01230026e-17 1.76751151e-16\n",
      " 7.35639804e-18 3.62395077e-17 8.92083985e-17 4.05924564e-16\n",
      " 1.54345524e-16 2.18582070e-19 3.13763532e-18 5.04879621e-17\n",
      " 5.16549961e-17 4.48796412e-17 3.47309449e-17 1.29549597e-16]\n",
      " sum(weights) =  7.969016420566513e-14\n"
     ]
    }
   ],
   "source": [
    "arg = initialization()"
   ]
  },
  {
   "cell_type": "code",
   "execution_count": 126,
   "metadata": {},
   "outputs": [
    {
     "name": "stdout",
     "output_type": "stream",
     "text": [
      "INITIALIZATION IS DONE :)\n",
      "t =  1\n",
      "epsilon =  2.99\n",
      "theta t =  [[ 2.78905613e+00  2.16600463e-01  2.18363069e+02 -1.18309661e+02]\n",
      " [ 1.68342570e+00  2.63642709e-01  2.20826609e+02 -1.23199855e+02]\n",
      " [ 1.99786840e+00  6.73575848e-01  2.18739438e+02 -1.20074706e+02]\n",
      " [ 2.04688650e+00 -9.31527663e-01  2.19726049e+02 -1.20214134e+02]\n",
      " [ 1.92731057e+00 -6.38246148e-02  2.19631342e+02 -1.19577946e+02]]\n"
     ]
    },
    {
     "name": "stderr",
     "output_type": "stream",
     "text": [
      "/tmp/ipykernel_242028/1118787516.py:15: RuntimeWarning: invalid value encountered in power\n",
      "  y_bar = (S*(np.sin(alpha)*(u+B))*(np.cos(u-alpha*(u+B))/w)**((1-alpha)/alpha))/np.cos(u)**(1/alpha)\n",
      "/opt/mamba/lib/python3.11/site-packages/numpy/linalg/linalg.py:2180: RuntimeWarning: invalid value encountered in det\n",
      "  r = _umath_linalg.det(a, signature=signature)\n"
     ]
    },
    {
     "name": "stdout",
     "output_type": "stream",
     "text": [
      "weights t =  [           nan 1.16218282e-01 2.54619340e-12            nan\n",
      " 1.81007260e-03]\n",
      "proba =  [nan nan nan nan nan nan nan nan nan nan]\n",
      "accepted =  []\n",
      "acceptance pourcentage =  0.0\n",
      "rejected =  []\n",
      "rejected pourcentage =  0.0\n",
      "theta t =  [[ 1.57592293e+00 -8.15447053e-01  2.20285173e+02 -1.19767615e+02]\n",
      " [ 2.10750423e+00  2.20849298e-01  2.16087235e+02 -1.19836387e+02]\n",
      " [ 1.88971939e+00  8.57714899e-01  2.20387740e+02 -1.22052045e+02]\n",
      " [ 2.35224770e+00  2.37089074e-01  2.20527400e+02 -1.19564615e+02]\n",
      " [ 2.17407454e+00  2.14456715e-01  2.19064634e+02 -1.21302130e+02]]\n"
     ]
    },
    {
     "name": "stderr",
     "output_type": "stream",
     "text": [
      "/tmp/ipykernel_242028/538432180.py:4: RuntimeWarning: overflow encountered in scalar power\n",
      "  return np.exp(-u.T@np.linalg.inv(sigma)@u/2)/(np.sqrt(2*np.pi*np.linalg.det(sigma)**2))**d\n",
      "/tmp/ipykernel_242028/1118787516.py:15: RuntimeWarning: overflow encountered in power\n",
      "  y_bar = (S*(np.sin(alpha)*(u+B))*(np.cos(u-alpha*(u+B))/w)**((1-alpha)/alpha))/np.cos(u)**(1/alpha)\n",
      "/tmp/ipykernel_242028/1151381473.py:4: RuntimeWarning: divide by zero encountered in scalar divide\n",
      "  v_alpha = (quantiles[4] - quantiles[0]) / (quantiles[3] - quantiles[1])\n",
      "/opt/mamba/lib/python3.11/site-packages/numpy/core/_methods.py:118: RuntimeWarning: invalid value encountered in reduce\n",
      "  ret = umr_sum(arr, axis, dtype, out, keepdims, where=where)\n"
     ]
    },
    {
     "name": "stdout",
     "output_type": "stream",
     "text": [
      "weights t =  [4.32037823e-23            nan 1.48973528e-05            nan\n",
      "            nan]\n",
      "proba =  [nan nan nan nan nan nan nan nan nan nan]\n",
      "accepted =  []\n",
      "acceptance pourcentage =  0.0\n",
      "rejected =  []\n",
      "rejected pourcentage =  0.0\n"
     ]
    },
    {
     "ename": "ValueError",
     "evalue": "probabilities contain NaN",
     "output_type": "error",
     "traceback": [
      "\u001b[0;31m---------------------------------------------------------------------------\u001b[0m",
      "\u001b[0;31mValueError\u001b[0m                                Traceback (most recent call last)",
      "\u001b[1;32m/home/onyxia/work/Projet-Monte-Carlo/choosing_kernel.ipynb Cell 18\u001b[0m line \u001b[0;36m1\n\u001b[0;32m----> <a href='vscode-notebook-cell://user-fdexchamps-618749-0.user.lab.sspcloud.fr/home/onyxia/work/Projet-Monte-Carlo/choosing_kernel.ipynb#X66sdnNjb2RlLXJlbW90ZQ%3D%3D?line=0'>1</a>\u001b[0m SMC_sampler_v2(arg\u001b[39m=\u001b[39;49marg)\n",
      "\u001b[1;32m/home/onyxia/work/Projet-Monte-Carlo/choosing_kernel.ipynb Cell 18\u001b[0m line \u001b[0;36m3\n\u001b[1;32m     <a href='vscode-notebook-cell://user-fdexchamps-618749-0.user.lab.sspcloud.fr/home/onyxia/work/Projet-Monte-Carlo/choosing_kernel.ipynb#X66sdnNjb2RlLXJlbW90ZQ%3D%3D?line=31'>32</a>\u001b[0m theta_maj \u001b[39m=\u001b[39m theta[\u001b[39m'\u001b[39m\u001b[39mt\u001b[39m\u001b[39m'\u001b[39m]\n\u001b[1;32m     <a href='vscode-notebook-cell://user-fdexchamps-618749-0.user.lab.sspcloud.fr/home/onyxia/work/Projet-Monte-Carlo/choosing_kernel.ipynb#X66sdnNjb2RlLXJlbW90ZQ%3D%3D?line=32'>33</a>\u001b[0m weights_maj \u001b[39m=\u001b[39m weights[\u001b[39m'\u001b[39m\u001b[39mt\u001b[39m\u001b[39m'\u001b[39m]\n\u001b[0;32m---> <a href='vscode-notebook-cell://user-fdexchamps-618749-0.user.lab.sspcloud.fr/home/onyxia/work/Projet-Monte-Carlo/choosing_kernel.ipynb#X66sdnNjb2RlLXJlbW90ZQ%3D%3D?line=33'>34</a>\u001b[0m theta[\u001b[39m'\u001b[39m\u001b[39mt\u001b[39m\u001b[39m'\u001b[39m] \u001b[39m=\u001b[39m sample_from_M_t(N, theta[\u001b[39m'\u001b[39;49m\u001b[39mt-1\u001b[39;49m\u001b[39m'\u001b[39;49m], weights[\u001b[39m'\u001b[39;49m\u001b[39mt-1\u001b[39;49m\u001b[39m'\u001b[39;49m])\n\u001b[1;32m     <a href='vscode-notebook-cell://user-fdexchamps-618749-0.user.lab.sspcloud.fr/home/onyxia/work/Projet-Monte-Carlo/choosing_kernel.ipynb#X66sdnNjb2RlLXJlbW90ZQ%3D%3D?line=34'>35</a>\u001b[0m \u001b[39mprint\u001b[39m(\u001b[39m'\u001b[39m\u001b[39mtheta t = \u001b[39m\u001b[39m'\u001b[39m, theta[\u001b[39m'\u001b[39m\u001b[39mt\u001b[39m\u001b[39m'\u001b[39m][:\u001b[39m5\u001b[39m])\n\u001b[1;32m     <a href='vscode-notebook-cell://user-fdexchamps-618749-0.user.lab.sspcloud.fr/home/onyxia/work/Projet-Monte-Carlo/choosing_kernel.ipynb#X66sdnNjb2RlLXJlbW90ZQ%3D%3D?line=35'>36</a>\u001b[0m weights[\u001b[39m'\u001b[39m\u001b[39mt\u001b[39m\u001b[39m'\u001b[39m] \u001b[39m=\u001b[39m np\u001b[39m.\u001b[39marray([K((S(y)\u001b[39m-\u001b[39mS(x))\u001b[39m/\u001b[39mepsilon,sigma_hat(theta_hat))\u001b[39m/\u001b[39mepsilon \u001b[39mfor\u001b[39;00m theta_hat \u001b[39min\u001b[39;00m theta[\u001b[39m'\u001b[39m\u001b[39mt\u001b[39m\u001b[39m'\u001b[39m]])\u001b[39m/\u001b[39mnp\u001b[39m.\u001b[39marray([M_t(N,theta[\u001b[39m'\u001b[39m\u001b[39mt\u001b[39m\u001b[39m'\u001b[39m][i],theta[\u001b[39m'\u001b[39m\u001b[39mt-1\u001b[39m\u001b[39m'\u001b[39m],weights[\u001b[39m'\u001b[39m\u001b[39mt-1\u001b[39m\u001b[39m'\u001b[39m]) \u001b[39mfor\u001b[39;00m i \u001b[39min\u001b[39;00m \u001b[39mrange\u001b[39m(N)])\n",
      "\u001b[1;32m/home/onyxia/work/Projet-Monte-Carlo/choosing_kernel.ipynb Cell 18\u001b[0m line \u001b[0;36m7\n\u001b[1;32m      <a href='vscode-notebook-cell://user-fdexchamps-618749-0.user.lab.sspcloud.fr/home/onyxia/work/Projet-Monte-Carlo/choosing_kernel.ipynb#X66sdnNjb2RlLXJlbW90ZQ%3D%3D?line=3'>4</a>\u001b[0m normalized_weights \u001b[39m=\u001b[39m weights_prev\u001b[39m/\u001b[39mnp\u001b[39m.\u001b[39msum(weights_prev)\n\u001b[1;32m      <a href='vscode-notebook-cell://user-fdexchamps-618749-0.user.lab.sspcloud.fr/home/onyxia/work/Projet-Monte-Carlo/choosing_kernel.ipynb#X66sdnNjb2RlLXJlbW90ZQ%3D%3D?line=4'>5</a>\u001b[0m \u001b[39mfor\u001b[39;00m i \u001b[39min\u001b[39;00m \u001b[39mrange\u001b[39m(N):\n\u001b[1;32m      <a href='vscode-notebook-cell://user-fdexchamps-618749-0.user.lab.sspcloud.fr/home/onyxia/work/Projet-Monte-Carlo/choosing_kernel.ipynb#X66sdnNjb2RlLXJlbW90ZQ%3D%3D?line=5'>6</a>\u001b[0m     \u001b[39m# Choose a component based on the weights\u001b[39;00m\n\u001b[0;32m----> <a href='vscode-notebook-cell://user-fdexchamps-618749-0.user.lab.sspcloud.fr/home/onyxia/work/Projet-Monte-Carlo/choosing_kernel.ipynb#X66sdnNjb2RlLXJlbW90ZQ%3D%3D?line=6'>7</a>\u001b[0m     component \u001b[39m=\u001b[39m np\u001b[39m.\u001b[39mrandom\u001b[39m.\u001b[39mchoice(\u001b[39mrange\u001b[39m(N), p\u001b[39m=\u001b[39mnormalized_weights)\n\u001b[1;32m      <a href='vscode-notebook-cell://user-fdexchamps-618749-0.user.lab.sspcloud.fr/home/onyxia/work/Projet-Monte-Carlo/choosing_kernel.ipynb#X66sdnNjb2RlLXJlbW90ZQ%3D%3D?line=7'>8</a>\u001b[0m     \u001b[39m# Generate a sample from the chosen component\u001b[39;00m\n\u001b[1;32m      <a href='vscode-notebook-cell://user-fdexchamps-618749-0.user.lab.sspcloud.fr/home/onyxia/work/Projet-Monte-Carlo/choosing_kernel.ipynb#X66sdnNjb2RlLXJlbW90ZQ%3D%3D?line=8'>9</a>\u001b[0m     sample \u001b[39m=\u001b[39m np\u001b[39m.\u001b[39mrandom\u001b[39m.\u001b[39mmultivariate_normal(mean \u001b[39m=\u001b[39m theta_prev[component], cov \u001b[39m=\u001b[39m np\u001b[39m.\u001b[39mdiag([\u001b[39m0.25\u001b[39m,\u001b[39m0.25\u001b[39m,\u001b[39m1\u001b[39m,\u001b[39m1\u001b[39m]))\n",
      "File \u001b[0;32mnumpy/random/mtrand.pyx:971\u001b[0m, in \u001b[0;36mnumpy.random.mtrand.RandomState.choice\u001b[0;34m()\u001b[0m\n",
      "\u001b[0;31mValueError\u001b[0m: probabilities contain NaN"
     ]
    }
   ],
   "source": [
    "SMC_sampler_v2(arg=arg)"
   ]
  },
  {
   "cell_type": "code",
   "execution_count": 14,
   "metadata": {},
   "outputs": [
    {
     "data": {
      "text/plain": [
       "23"
      ]
     },
     "execution_count": 14,
     "metadata": {},
     "output_type": "execute_result"
    }
   ],
   "source": [
    "test = {'t' : [1,23,34]}\n",
    "test['t'][1]"
   ]
  },
  {
   "cell_type": "code",
   "execution_count": 7,
   "metadata": {},
   "outputs": [
    {
     "data": {
      "text/plain": [
       "[[1.849080237694725,\n",
       "  -0.049285693590083834,\n",
       "  219.59818254342153,\n",
       "  -120.40245474088903],\n",
       " [1.849080237694725,\n",
       "  -0.049285693590083834,\n",
       "  219.59818254342153,\n",
       "  -120.40245474088903]]"
      ]
     },
     "execution_count": 7,
     "metadata": {},
     "output_type": "execute_result"
    }
   ],
   "source": [
    "[prior_sample(42) for _ in range(2)]"
   ]
  },
  {
   "cell_type": "code",
   "execution_count": 10,
   "metadata": {},
   "outputs": [
    {
     "data": {
      "text/plain": [
       "array([[ 1.84908024e+00, -4.92856936e-02,  2.19598183e+02,\n",
       "        -1.20402455e+02],\n",
       "       [ 1.84908024e+00, -4.92856936e-02,  2.19598183e+02,\n",
       "        -1.20402455e+02]])"
      ]
     },
     "execution_count": 10,
     "metadata": {},
     "output_type": "execute_result"
    }
   ],
   "source": [
    "liste = np.array([prior_sample(42) for _ in range(2)])\n",
    "liste"
   ]
  },
  {
   "cell_type": "code",
   "execution_count": 11,
   "metadata": {},
   "outputs": [
    {
     "data": {
      "text/plain": [
       "(2, 4)"
      ]
     },
     "execution_count": 11,
     "metadata": {},
     "output_type": "execute_result"
    }
   ],
   "source": [
    "liste.shape"
   ]
  },
  {
   "cell_type": "code",
   "execution_count": null,
   "metadata": {},
   "outputs": [],
   "source": []
  }
 ],
 "metadata": {
  "kernelspec": {
   "display_name": "base",
   "language": "python",
   "name": "python3"
  },
  "language_info": {
   "codemirror_mode": {
    "name": "ipython",
    "version": 3
   },
   "file_extension": ".py",
   "mimetype": "text/x-python",
   "name": "python",
   "nbconvert_exporter": "python",
   "pygments_lexer": "ipython3",
   "version": "3.11.6"
  }
 },
 "nbformat": 4,
 "nbformat_minor": 2
}
