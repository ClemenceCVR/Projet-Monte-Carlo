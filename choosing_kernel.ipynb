{
 "cells": [
  {
   "cell_type": "code",
   "execution_count": 1,
   "metadata": {},
   "outputs": [],
   "source": [
    "import numpy as np\n",
    "from scipy.stats import levy_stable"
   ]
  },
  {
   "cell_type": "code",
   "execution_count": 4,
   "metadata": {},
   "outputs": [],
   "source": [
    "def prior_sample():\n",
    "    # Sample from prior distribution\n",
    "    # For univariate alpha-stable models, sample each parameter from its respective uniform distribution\n",
    "    alpha = uniform.rvs(1.1, 2)  # U[1.1, 2]\n",
    "    beta = uniform.rvs(-1, 1)  # U[-1, 1]\n",
    "    gamma = uniform.rvs(0, 300)  # U[0, 300]\n",
    "    delta = uniform.rvs(-300, 300)  # U[-300, 300]\n",
    "    return [alpha, beta, gamma, delta]"
   ]
  },
  {
   "cell_type": "code",
   "execution_count": 5,
   "metadata": {},
   "outputs": [],
   "source": [
    "def univ_alpha_stable_sampler(params,size,seed) :\n",
    "    alpha,beta,gamma,delta = params[0],params[1],params[2],params[3]\n",
    "    #print(alpha,beta,gamma,delta)\n",
    "    y_bar = 0\n",
    "    np.random.seed(seed)\n",
    "    w = np.random.standard_exponential(size=size)\n",
    "    u = np.random.uniform(low = -np.pi/2, high = np.pi/2, size = size)\n",
    "    if alpha == 1 :\n",
    "        y_bar = 2/np.pi*((np.pi/2+beta*u)*np.tan(u)-beta*np.log((np.pi/2*w*np.cos(u))/(np.pi/2+beta*u)))\n",
    "        return gamma*y_bar + delta\n",
    "    else :\n",
    "        S = (1+beta**2*np.tan(np.pi*alpha/2)**2)**(1/(2*alpha))\n",
    "        B = 1/alpha*np.arctan(beta*np.tan(np.pi*alpha/2))\n",
    "        #print(S,B)\n",
    "        y_bar = (S*(np.sin(alpha)*(u+B))*(np.cos(u-alpha*(u+B))/w)**((1-alpha)/alpha))/np.cos(u)**(1/alpha)\n",
    "        return gamma*y_bar + delta"
   ]
  },
  {
   "cell_type": "code",
   "execution_count": 9,
   "metadata": {},
   "outputs": [],
   "source": [
    "def compute_quantiles(data):\n",
    "    # Compute quantile-based summary statistics\n",
    "    quantiles = np.percentile(data, [5, 25, 50, 75, 95])\n",
    "    v_alpha = (quantiles[4] - quantiles[0]) / (quantiles[3] - quantiles[1])\n",
    "    v_beta = (quantiles[4] + quantiles[0] - 2 * quantiles[2]) / (quantiles[4] - quantiles[0])\n",
    "    v_gamma = (quantiles[3] - quantiles[1]) / quantiles[2]\n",
    "    return v_alpha, v_beta, v_gamma"
   ]
  },
  {
   "cell_type": "code",
   "execution_count": 2,
   "metadata": {},
   "outputs": [],
   "source": [
    "def summary_statistics(data):\n",
    "    # Compute summary statistics of the data\n",
    "    # This function should return low-dimensional summary statistics S(data)\n",
    "    # For univariate alpha-stable models, use quantile-based estimators along with the mean of the data\n",
    "    v_alpha, v_beta, v_gamma = compute_quantiles(data)\n",
    "    mean_x = np.mean(data)\n",
    "    return [v_alpha, v_beta, v_gamma, mean_x]"
   ]
  },
  {
   "cell_type": "code",
   "execution_count": null,
   "metadata": {},
   "outputs": [],
   "source": [
    "def smoothing_kernel(y, x, epsilon, covariance):\n",
    "    # Define smoothing kernel using a Gaussian kernel with estimated covariance\n",
    "    return multivariate_normal.pdf(y, mean=x, cov=epsilon**2 * covariance)\n"
   ]
  },
  {
   "cell_type": "code",
   "execution_count": null,
   "metadata": {},
   "outputs": [],
   "source": [
    "def pi_LF(theta,y) :\n",
    "    \"\"\"give the approximate density pi_LF\n",
    "\n",
    "    Args:\n",
    "        theta (_type_): _description_\n",
    "        y (_type_): _description_\n",
    "    \"\"\"\n",
    "    [K((summary_statistics(y)-summary_statistics(x_i))/epsilon)/epsilon for x_i in x]\n",
    "    "
   ]
  },
  {
   "cell_type": "code",
   "execution_count": null,
   "metadata": {},
   "outputs": [],
   "source": [
    "def SMC_sampler(T=10,N =1000,n=200,covariance = covariance = np.diag([0.25, 0.25, 1, 1]), seed=42) :\n",
    "    epsilons = np.linspace(0.1, 0.01, T)  # Tolerance schedule\n",
    "    y = levy_stable.rvs(1.7, 0.9, loc=10, scale=10, size=200)\n",
    "    ###--------Initialization :\n",
    "    epsilon = epsilons[0]\n",
    "    # sample theta from the prior : \n",
    "    # theta is a Nx4 matrix containing all the N theta_i\n",
    "    theta = [prior_sample() for _ in range(N)]\n",
    "    print(\"theta : \\n\", theta[:5])\n",
    "    # set weights their initial values :\n",
    "    #prior = np.array([1/(2-1.1),1/2,1/300,1/600])\n",
    "    x = [univ_alpha_stable_sampler(params=theta_i, size=n, seed=seed) for theta_i in theta]\n",
    "    weights = pi_LF(theta,y)/prior\n",
    "\n"
   ]
  },
  {
   "cell_type": "code",
   "execution_count": null,
   "metadata": {},
   "outputs": [],
   "source": []
  }
 ],
 "metadata": {
  "kernelspec": {
   "display_name": "base",
   "language": "python",
   "name": "python3"
  },
  "language_info": {
   "codemirror_mode": {
    "name": "ipython",
    "version": 3
   },
   "file_extension": ".py",
   "mimetype": "text/x-python",
   "name": "python",
   "nbconvert_exporter": "python",
   "pygments_lexer": "ipython3",
   "version": "3.11.6"
  }
 },
 "nbformat": 4,
 "nbformat_minor": 2
}
