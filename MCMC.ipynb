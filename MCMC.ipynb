{
 "cells": [
  {
   "cell_type": "code",
   "execution_count": 75,
   "id": "df7491ae-3c6a-4443-9253-665c659d2150",
   "metadata": {},
   "outputs": [],
   "source": [
    "from math import *\n",
    "import numpy as np\n",
    "from scipy.stats import levy_stable\n",
    "from scipy.stats import uniform\n",
    "from scipy.stats import multivariate_normal\n",
    "import matplotlib.pyplot as plt"
   ]
  },
  {
   "cell_type": "code",
   "execution_count": 76,
   "id": "2bde155b-9f23-4476-a1a3-821859144dcf",
   "metadata": {},
   "outputs": [],
   "source": [
    "def prior_sample(seed):\n",
    "    # Sample from prior distribution\n",
    "    # For univariate alpha-stable models, sample each parameter from its respective uniform distribution\n",
    "    np.random.seed(seed)\n",
    "    alpha = uniform.rvs(1.1, 0.9)  # U[1.1, 2]\n",
    "    beta = uniform.rvs(-1, 2)  # U[-1, 1]\n",
    "    gamma = uniform.rvs(0, 300)  # U[0, 300]\n",
    "    delta = uniform.rvs(-300, 600)  # U[-300, 300]\n",
    "    return [alpha, beta, gamma, delta]"
   ]
  },
  {
   "cell_type": "code",
   "execution_count": 77,
   "id": "f8b7a420-4aea-415b-a660-8fcbf736abb4",
   "metadata": {},
   "outputs": [],
   "source": [
    "def univ_alpha_stable_sampler(params,size,seed) :\n",
    "    alpha,beta,gamma,delta = params[0],params[1],params[2],params[3]\n",
    "    #print(alpha,beta,gamma,delta)\n",
    "    y_bar = 0\n",
    "    np.random.seed(seed)\n",
    "    w = np.random.standard_exponential(size=size)\n",
    "    u = np.random.uniform(low = -np.pi/2, high = np.pi/2, size = size)\n",
    "    if alpha == 1 :\n",
    "        y_bar = (2/np.pi)*((np.pi/2+beta*u)*np.tan(u)-beta*np.log((np.pi/2*w*np.cos(u))/(np.pi/2+beta*u)))\n",
    "        return gamma*y_bar + delta\n",
    "    else :\n",
    "        S = (1+(beta**2)*(np.tan(np.pi*alpha/2)**2))**(1/(2*alpha))\n",
    "        B = (1/alpha)*np.arctan(beta*np.tan(np.pi*alpha/2))\n",
    "        z = np.cos(u-alpha*(u+B))/w\n",
    "        y_bar = (S*(np.sin((alpha)*(u+B)))*np.sign(z)*(np.abs(z)**((1-alpha)/alpha)))/(np.cos(u)**(1/alpha))\n",
    "        return gamma*y_bar + delta"
   ]
  },
  {
   "cell_type": "code",
   "execution_count": 78,
   "id": "49331a96-7787-433a-ae56-4be97b600a98",
   "metadata": {},
   "outputs": [],
   "source": [
    "def prior(theta):\n",
    "    if 1.1 <= theta[0] <= 2.0 and -1 <= theta[1] <=2 and 0 <= theta[2] <= 300 and -300 <= theta[3] <= 300:\n",
    "        return 1\n",
    "    else:\n",
    "        return 0"
   ]
  },
  {
   "cell_type": "code",
   "execution_count": 106,
   "id": "a5d0772c-a813-4980-9992-2515276af2ae",
   "metadata": {},
   "outputs": [],
   "source": [
    "def transition(theta, cov):\n",
    "    return multivariate_normal(mean=theta, cov=cov).rvs()"
   ]
  },
  {
   "cell_type": "code",
   "execution_count": 80,
   "id": "9726e8af-7dc2-4bff-8588-e722b71bd43d",
   "metadata": {},
   "outputs": [],
   "source": [
    "gamma = 10\n",
    "def compute_quantiles(data):\n",
    "    # Compute quantile-based summary statistics\n",
    "    quantiles = np.percentile(data, [5, 25, 50, 75, 95])\n",
    "    v_alpha = (quantiles[4] - quantiles[0]) / (quantiles[3] - quantiles[1])\n",
    "    v_beta = (quantiles[4] + quantiles[0] - 2 * quantiles[2]) / (quantiles[4] - quantiles[0])\n",
    "    v_gamma = (quantiles[3] - quantiles[1]) / gamma\n",
    "    return v_alpha, v_beta, v_gamma"
   ]
  },
  {
   "cell_type": "code",
   "execution_count": 81,
   "id": "4a74a26b-cf43-49be-abdc-d27cf455d493",
   "metadata": {},
   "outputs": [],
   "source": [
    "def S(data):\n",
    "    # Compute summary statistics of the data\n",
    "    # This function should return low-dimensional summary statistics S(data)\n",
    "    # For univariate alpha-stable models, use quantile-based estimators along with the mean of the data\n",
    "    v_alpha, v_beta, v_gamma = compute_quantiles(data)\n",
    "    mean_x = np.mean(data)\n",
    "    return np.array([v_alpha, v_beta, v_gamma, mean_x])"
   ]
  },
  {
   "cell_type": "code",
   "execution_count": 82,
   "id": "9c496276-2722-4b08-b6d4-8ec44bfd8414",
   "metadata": {},
   "outputs": [],
   "source": [
    "def sigma_hat(theta_hat, size, n_draws = 1000):\n",
    "    x = np.array([univ_alpha_stable_sampler(theta_hat, size=size, seed=None) for _ in range(n_draws)])\n",
    "    sumary_statistics = np.array([S(x_i) for x_i in x])\n",
    "    return np.cov(sumary_statistics, rowvar=False)"
   ]
  },
  {
   "cell_type": "code",
   "execution_count": 83,
   "id": "65cdaf65-9c84-4e55-ab8d-0abbc987658d",
   "metadata": {},
   "outputs": [],
   "source": [
    "def norm2(u) :\n",
    "    return np.sqrt(np.sum(u*u))"
   ]
  },
  {
   "cell_type": "code",
   "execution_count": 118,
   "id": "06252351-7efe-4047-a0c6-80f6a5615ad5",
   "metadata": {},
   "outputs": [],
   "source": [
    "def log_K(u, sigma) :\n",
    "    d = sigma.shape[0]\n",
    "    #print(d)\n",
    "    return (-(u.T@np.linalg.inv(sigma)@u)/2)-0.5*np.log(2*np.pi)*d"
   ]
  },
  {
   "cell_type": "code",
   "execution_count": 114,
   "id": "e5d2d2e6-860b-4cbb-ab29-e992a2bca953",
   "metadata": {},
   "outputs": [],
   "source": [
    "alpha = 1.7\n",
    "beta = 0.9\n",
    "gamma = 10\n",
    "delta = 10\n",
    "\n",
    "def MCMC(N, size, covariance=np.diag([0.25, 0.25, 1, 1]), seed=42):\n",
    "    epsilons = [10000-100*k for k in range(90)]+[1000-0.01*k for k in range(100000)]\n",
    "    y = levy_stable.rvs(alpha, beta, loc=gamma, scale=delta, size=size)\n",
    "    theta0 = prior_sample(seed)\n",
    "    thetas = [theta0] * N\n",
    "    weights = []\n",
    "    x = univ_alpha_stable_sampler(theta0, size=size, seed=seed)\n",
    "    sigma0 = sigma_hat(theta0, size=size, n_draws = 1000)\n",
    "    weights.append(log_K((S(x)-S(y))/epsilons[0], sigma0))\n",
    "    n = 0\n",
    "    n_accepted = 0\n",
    "    while n<N-1:\n",
    "        theta = np.array(thetas[n])\n",
    "        theta_new = transition(theta, cov=covariance)\n",
    "        prior_new = prior(theta_new)\n",
    "        h = 0\n",
    "        if prior_new != 0:\n",
    "            x_new = univ_alpha_stable_sampler(theta_new, size=size, seed=seed)\n",
    "            sigma = sigma_hat(theta_new, size=size, n_draws = 1000)\n",
    "            epsilon = epsilons[n]\n",
    "            w = log_K((S(x_new)-S(y))/epsilon, sigma)\n",
    "            h = min(1, np.exp(w-weights[-1]))\n",
    "        u = np.random.uniform(0.0, 1.0)\n",
    "        if u < h :\n",
    "            n_accepted += 1\n",
    "            thetas[n+1] = theta_new\n",
    "            weights.append(log_K((S(x_new)-S(y))/epsilons[n+1], sigma))\n",
    "        else:\n",
    "            thetas[n+1] = theta\n",
    "        n += 1\n",
    "    rate = n_accepted/N\n",
    "    return thetas, rate"
   ]
  },
  {
   "cell_type": "code",
   "execution_count": 119,
   "id": "5c137837-190f-4760-982f-7ae040b475fa",
   "metadata": {},
   "outputs": [],
   "source": [
    "thetas1, rate1 = MCMC(N=100000, size=1000)"
   ]
  },
  {
   "cell_type": "code",
   "execution_count": 123,
   "id": "00fd3d61-c2ef-4b7a-b344-eb3f6af5f9e9",
   "metadata": {},
   "outputs": [],
   "source": [
    "alphas = [theta[0] for theta in thetas[10000:]]\n",
    "betas = [theta[1] for theta in thetas[10000:]]\n",
    "gammas = [theta[2] for theta in thetas[10000:]]\n",
    "deltas = [theta[3] for theta in thetas[10000:]]"
   ]
  },
  {
   "cell_type": "code",
   "execution_count": null,
   "id": "3e255002-72cd-4c6d-98d3-1dabf14d4a48",
   "metadata": {},
   "outputs": [],
   "source": [
    "n = np.linspace(0, 90000, 90000)\n",
    "plt.plot(n, alphas)\n",
    "plt.show()\n",
    "plt.plot(n, betas)\n",
    "plt.show()\n",
    "plt.plot(n, gammas)\n",
    "plt.show()\n",
    "plt.plot(n, deltas)\n",
    "plt.show()"
   ]
  },
  {
   "cell_type": "code",
   "execution_count": 127,
   "id": "7605ceba-03f8-4e21-af5e-b445e657c493",
   "metadata": {},
   "outputs": [],
   "source": [
    "# Estimation of parameters\n",
    "\n",
    "alpha_hat = np.mean(alphas)\n",
    "beta_hat = np.mean(betas)\n",
    "gamma_hat = np.mean(gammas)\n",
    "delta_hat = np.mean(deltas)"
   ]
  },
  {
   "cell_type": "code",
   "execution_count": 125,
   "id": "7c8639ac-f847-48f4-b0a9-7e593ee6b3a6",
   "metadata": {},
   "outputs": [
    {
     "name": "stdout",
     "output_type": "stream",
     "text": [
      "1.6385552498605798\n"
     ]
    }
   ],
   "source": [
    "print(alpha_hat)"
   ]
  },
  {
   "cell_type": "code",
   "execution_count": 128,
   "id": "3dc96f12-182e-4264-ab54-8919fb49d627",
   "metadata": {},
   "outputs": [
    {
     "name": "stdout",
     "output_type": "stream",
     "text": [
      "0.5086084199943841\n"
     ]
    }
   ],
   "source": [
    "print(beta_hat)"
   ]
  },
  {
   "cell_type": "code",
   "execution_count": 129,
   "id": "c0383e86-c7d7-4508-b67a-7896f047186b",
   "metadata": {},
   "outputs": [
    {
     "name": "stdout",
     "output_type": "stream",
     "text": [
      "45.91651703724569\n"
     ]
    }
   ],
   "source": [
    "print(gamma_hat)"
   ]
  },
  {
   "cell_type": "code",
   "execution_count": 130,
   "id": "2b92a101-cd7c-4e7d-bde2-d64c0a7a462f",
   "metadata": {},
   "outputs": [
    {
     "name": "stdout",
     "output_type": "stream",
     "text": [
      "94.21571816965518\n"
     ]
    }
   ],
   "source": [
    "print(delta_hat)"
   ]
  },
  {
   "cell_type": "code",
   "execution_count": null,
   "id": "79744137-8db4-425f-ba18-f1787084f861",
   "metadata": {},
   "outputs": [],
   "source": [
    "# Root Mean squared error\n",
    "\n",
    "y = levy_stable.rvs(alpha, beta, loc=gamma, scale=delta, size=1000)\n",
    "MSE_alpha = (alpha-alpha_hat"
   ]
  },
  {
   "cell_type": "code",
   "execution_count": null,
   "id": "98fc90c8-90d4-4baf-a511-6e1e747531ef",
   "metadata": {},
   "outputs": [],
   "source": []
  }
 ],
 "metadata": {
  "kernelspec": {
   "display_name": "Python 3 (ipykernel)",
   "language": "python",
   "name": "python3"
  },
  "language_info": {
   "codemirror_mode": {
    "name": "ipython",
    "version": 3
   },
   "file_extension": ".py",
   "mimetype": "text/x-python",
   "name": "python",
   "nbconvert_exporter": "python",
   "pygments_lexer": "ipython3",
   "version": "3.11.6"
  }
 },
 "nbformat": 4,
 "nbformat_minor": 5
}
